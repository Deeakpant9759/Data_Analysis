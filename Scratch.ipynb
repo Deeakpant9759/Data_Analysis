{
 "cells": [
  {
   "cell_type": "code",
   "execution_count": 38,
   "id": "28448c2f",
   "metadata": {},
   "outputs": [],
   "source": [
    "import pandas as pd\n",
    "\n",
    "# Load your file (CSV or Excel)\n",
    "df = pd.read_excel('C:\\\\Users\\\\MICILMEDS\\\\Documents\\\\Medi_final\\\\correct_data\\\\100k_Data_cleaned.xlsx') \n",
    "\n",
    "\n"
   ]
  },
  {
   "cell_type": "code",
   "execution_count": null,
   "id": "b4c98129",
   "metadata": {},
   "outputs": [
    {
     "name": "stdout",
     "output_type": "stream",
     "text": [
      "Total matching rows: 10328\n"
     ]
    }
   ],
   "source": [
    "import re\n",
    "\n",
    "# Your list of companies\n",
    "companies = [\n",
    "    \"voxiva pharmaceuticals\",\n",
    "    \"rishab healthcare pvt. ltd\",\n",
    "    \"lewis bioserch\",\n",
    "    \"dabur india ltd\",\n",
    "    \"charak pharma pvt ltd\",\n",
    "    \"zenacts pharma\",\n",
    "    \"zydus cadila\",\n",
    "    \"aurobindo pharma ltd\",\n",
    "    \"alkem laboratories ltd\",\n",
    "    \"glenmark pharmaceuticals ltd\",\n",
    "    \"intas pharmaceuticals\",\n",
    "    \"ipca laboratories ltd\",\n",
    "    \"merck ltd\",\n",
    "    \"orchid chemicals & pharmaceuticals ltd\",\n",
    "    \"ranbaxy laboratories ltd\",\n",
    "    \"torrent pharmaceuticals ltd\",\n",
    "    \"wockhardt\",\n",
    "    \"jagsonpal pharmaceuticals\",\n",
    "    \"kopran\",\n",
    "    \"panacea biotec\",\n",
    "    \"paras pharmaceuticals ltd\",\n",
    "    \"albert david ltd\",\n",
    "    \"bal pharma ltd\",\n",
    "    \"sonika life sciences\",\n",
    "    \"truworth healthcare\",\n",
    "    \"vee remedies\",\n",
    "    \"sun pharmaceutical industries ltd\",\n",
    "    \"mankind pharma ltd\",\n",
    "    \"saturn formulations\",\n",
    "    \"charak pharma\",\n",
    "    \"emami\",\n",
    "    \"vasu healthcare\",\n",
    "    \"sanat products\",\n",
    "    \"dabur india\",\n",
    "    \"sagar pharmaceuticals\",\n",
    "    \"himalaya meditek pvt ltd\"\n",
    "]\n",
    "df['Product Company'] = df['Product Company'].astype(str).str.lower()\n",
    "\n",
    "# Lowercase company list too\n",
    "companies = [c.lower() for c in companies]\n",
    "\n",
    "# List to store each company's matches\n",
    "matches_list = []\n",
    "\n",
    "for val in companies:\n",
    "    matches = df[df['Product Company'].str.contains(val, na=False, regex=True)]\n",
    "    if not matches.empty:\n",
    "        matches_list.append(matches)\n",
    "\n",
    "# Combine all matches into one DataFrame\n",
    "df_filtered = pd.concat(matches_list, ignore_index=True).drop_duplicates()\n",
    "\n",
    "print(f\"Total matching rows: {len(df_filtered)}\")\n",
    "\n"
   ]
  },
  {
   "cell_type": "code",
   "execution_count": 51,
   "id": "d0a8d041",
   "metadata": {},
   "outputs": [],
   "source": [
    "df_filtered['Product Company']=df_filtered['Product Company'].str.title()"
   ]
  },
  {
   "cell_type": "code",
   "execution_count": 53,
   "id": "a7d8c2f1",
   "metadata": {},
   "outputs": [],
   "source": [
    "\n",
    "df_filtered.to_excel('C:\\\\Users\\\\MICILMEDS\\\\Documents\\\\Medi_final\\\\correct_data\\\\Ayurvedic.xlsx', index=False)  # Save the filtered DataFrame"
   ]
  }
 ],
 "metadata": {
  "kernelspec": {
   "display_name": "pands",
   "language": "python",
   "name": "python3"
  },
  "language_info": {
   "codemirror_mode": {
    "name": "ipython",
    "version": 3
   },
   "file_extension": ".py",
   "mimetype": "text/x-python",
   "name": "python",
   "nbconvert_exporter": "python",
   "pygments_lexer": "ipython3",
   "version": "3.12.3"
  }
 },
 "nbformat": 4,
 "nbformat_minor": 5
}
