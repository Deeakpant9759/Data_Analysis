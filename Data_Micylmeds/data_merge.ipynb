{
 "cells": [
  {
   "cell_type": "code",
   "execution_count": null,
   "id": "69a292d5",
   "metadata": {},
   "outputs": [],
   "source": [
    "import pandas as pd\n",
    "import os"
   ]
  },
  {
   "cell_type": "code",
   "execution_count": null,
   "id": "ea4e584c",
   "metadata": {},
   "outputs": [],
   "source": [
    "path = \"C:\\\\Users\\\\MICILMEDS\\\\Documents\\\\Medi_final\\\\correct_data\\\\Category\\\\Vitimins_nutrition\"\n",
    "files = [file for file in os.listdir(path) if not file.startswith('.')] # Ignore hidden files\n",
    "\n",
    "df = pd.DataFrame()\n",
    "\n",
    "for file in files:\n",
    "    current_data = pd.read_csv(path+\"/\"+file)\n",
    "    df = pd.concat([df, current_data])"
   ]
  },
  {
   "cell_type": "code",
   "execution_count": null,
   "id": "df050a3c",
   "metadata": {},
   "outputs": [],
   "source": [
    "df.drop_duplicates(inplace=True)\n"
   ]
  },
  {
   "cell_type": "code",
   "execution_count": null,
   "id": "ef3abebc",
   "metadata": {},
   "outputs": [],
   "source": [
    "df.reset_index(drop=True, inplace=True)"
   ]
  },
  {
   "cell_type": "code",
   "execution_count": null,
   "id": "f90e2364",
   "metadata": {},
   "outputs": [],
   "source": [
    "main_df = pd.read_csv(\"c:\\\\Users\\\\MICILMEDS\\\\Documents\\\\Medi_final\\\\correct_data\\\\Category\\\\vitamins-nutrition.csv\")"
   ]
  },
  {
   "cell_type": "code",
   "execution_count": null,
   "id": "42330c95",
   "metadata": {},
   "outputs": [],
   "source": [
    "main_df.drop_duplicates(inplace=True)\n",
    "main_df.reset_index(drop=True, inplace=True)"
   ]
  },
  {
   "cell_type": "code",
   "execution_count": null,
   "id": "eba024e7",
   "metadata": {},
   "outputs": [],
   "source": [
    "df.head()"
   ]
  },
  {
   "cell_type": "code",
   "execution_count": null,
   "id": "42bff233",
   "metadata": {},
   "outputs": [],
   "source": [
    "main_df.head()"
   ]
  },
  {
   "cell_type": "code",
   "execution_count": null,
   "id": "8f37dd53",
   "metadata": {},
   "outputs": [],
   "source": [
    "final_data =pd.merge(main_df, df, how='inner', left_on='1mg_url', right_on='url', indicator=True)"
   ]
  },
  {
   "cell_type": "code",
   "execution_count": null,
   "id": "cf5aa2fb",
   "metadata": {},
   "outputs": [],
   "source": [
    "final_data.drop_duplicates(inplace=True)\n",
    "final_data.reset_index(drop=True, inplace=True)\n",
    "final_data.head()\n"
   ]
  },
  {
   "cell_type": "code",
   "execution_count": null,
   "id": "06d67cf4",
   "metadata": {},
   "outputs": [],
   "source": [
    "final_data.columns"
   ]
  },
  {
   "cell_type": "code",
   "execution_count": null,
   "id": "80c632b5",
   "metadata": {},
   "outputs": [],
   "source": [
    "final_data.drop(columns=['_merge', 'url','1mg_url','row_number'], inplace=True)"
   ]
  },
  {
   "cell_type": "code",
   "execution_count": null,
   "id": "25cdff49",
   "metadata": {},
   "outputs": [],
   "source": [
    "final_data.head()"
   ]
  },
  {
   "cell_type": "code",
   "execution_count": null,
   "id": "da47c9e3",
   "metadata": {},
   "outputs": [],
   "source": [
    "df_final = final_data.rename(columns={\n",
    "    \"name\": \"Product Name\",\n",
    "    \"size_of_bottle\": \"Packaging of Medicines\",\n",
    "    \"Unnamed: 2\": \"Type of Medicine\",\n",
    "    \"MRPs\": \"Product Price (MRP)\",\n",
    "    \"selling_price\": \"Product Discount Price\",\n",
    "    \"MarketerName\": \"Product Company\",\n",
    "    \"Uses\": \"How to Use\",\n",
    "    \"Features\": \"Product Use or Indications\",\n",
    "    \"Directions\": \"Interactions or Warnings\",\n",
    "    \"Safety\": \"Expert Advice\"\n",
    "})\n"
   ]
  },
  {
   "cell_type": "code",
   "execution_count": null,
   "id": "5b324b44",
   "metadata": {},
   "outputs": [],
   "source": [
    "new_columns = [\n",
    "    'product_name',           # name\n",
    "    'packaging_of_medicines', # size_of_bottle\n",
    "    'type_of_medicine',       # Type of Product\n",
    "    'product_price_mrp',      # MRPs\n",
    "    'product_discount_price', # selling_price\n",
    "    'product_name_alt',       # ProductName (if you want to keep original as alt)\n",
    "    'product_company',        # MarketerName\n",
    "    'product_use_or_indications', # Uses\n",
    "    'expert_advice',          # Features\n",
    "    'how_to_use',             # Directions\n",
    "    'interactions_or_warnings' # Safety\n",
    "]"
   ]
  },
  {
   "cell_type": "code",
   "execution_count": null,
   "id": "f71a6e3f",
   "metadata": {},
   "outputs": [],
   "source": [
    "df_final.head()"
   ]
  },
  {
   "cell_type": "code",
   "execution_count": null,
   "id": "d92cf8d4",
   "metadata": {},
   "outputs": [],
   "source": [
    "df_final.columns"
   ]
  },
  {
   "cell_type": "code",
   "execution_count": null,
   "id": "506b8595",
   "metadata": {},
   "outputs": [],
   "source": [
    "new_columns = (['Product Name',\n",
    "               'Type of Medicine',\n",
    "               'Product Price (MRP)',\n",
    "               'Product Discount Price',\n",
    "               'Prescription Required',\n",
    "               'Product Company',\n",
    "               'Packaging of Medicines'\n",
    "               ,'Pregnancy Interaction'\n",
    "               ,'FAQ for Medicine',\n",
    "               'Expert Advice',\n",
    "               'Side Effects',\n",
    "               'How it works',\n",
    "               'Medicine Interaction',\n",
    "               'How to Use',\n",
    "               'Product Use or Indications',\n",
    "               'Product Composition',\n",
    "               'Interactions or Warnings',\n",
    "               'Product Description',\n",
    "               'Generic Keyword'])\n"
   ]
  },
  {
   "cell_type": "code",
   "execution_count": null,
   "id": "75eea41f",
   "metadata": {},
   "outputs": [],
   "source": [
    "import numpy as np\n",
    "for col in new_columns:\n",
    "    if col not in df_final.columns:\n",
    "        df_final[col] = np.nan"
   ]
  },
  {
   "cell_type": "code",
   "execution_count": null,
   "id": "dacab6fe",
   "metadata": {},
   "outputs": [],
   "source": [
    "df_final.head()"
   ]
  },
  {
   "cell_type": "markdown",
   "id": "5364e1f8",
   "metadata": {},
   "source": [
    "Alapabate correct"
   ]
  },
  {
   "cell_type": "markdown",
   "id": "e715e0e6",
   "metadata": {},
   "source": []
  },
  {
   "cell_type": "code",
   "execution_count": null,
   "id": "b40abaf0",
   "metadata": {},
   "outputs": [],
   "source": [
    "new_columns = (['Product Name',\n",
    "               'Type of Medicine',\n",
    "               'Product Price (MRP)',\n",
    "               'Product Discount Price',\n",
    "               'Prescription Required',\n",
    "               'Product Company',\n",
    "               'Packaging of Medicines'\n",
    "               ,'Pregnancy Interaction'\n",
    "               ,'FAQ for Medicine',\n",
    "               'Expert Advice',\n",
    "               'Side Effects',\n",
    "               'How it works',\n",
    "               'Medicine Interaction',\n",
    "               'How to Use',\n",
    "               'Product Use or Indications',\n",
    "               'Product Composition',\n",
    "               'Interactions or Warnings',\n",
    "               'Product Description',\n",
    "               'Generic Keyword'])\n"
   ]
  },
  {
   "cell_type": "code",
   "execution_count": null,
   "id": "f4565fa5",
   "metadata": {},
   "outputs": [],
   "source": [
    "df_final.columns"
   ]
  },
  {
   "cell_type": "code",
   "execution_count": null,
   "id": "e9298df7",
   "metadata": {},
   "outputs": [],
   "source": [
    "df_final.head()"
   ]
  },
  {
   "cell_type": "code",
   "execution_count": null,
   "id": "25498d47",
   "metadata": {},
   "outputs": [],
   "source": []
  },
  {
   "cell_type": "code",
   "execution_count": null,
   "id": "01c97fd4",
   "metadata": {},
   "outputs": [],
   "source": [
    "df_final = df_final.reindex(columns=new_columns)\n",
    "\n"
   ]
  },
  {
   "cell_type": "code",
   "execution_count": null,
   "id": "86b997bc",
   "metadata": {},
   "outputs": [],
   "source": [
    "df_final.head()"
   ]
  },
  {
   "cell_type": "code",
   "execution_count": null,
   "id": "febc11b2",
   "metadata": {},
   "outputs": [],
   "source": [
    "import numpy as np\n",
    "df_final['Prescription Required']=df_final['Prescription Required'].fillna('yes')\n",
    "df_final['Product Discount Price'] = (\n",
    "    df_final['Product Price (MRP)'] * \n",
    "    (1 - np.random.uniform(0.05, 0.10, size=len(df_final)))\n",
    ").round(2)"
   ]
  },
  {
   "cell_type": "code",
   "execution_count": null,
   "id": "d2480211",
   "metadata": {},
   "outputs": [],
   "source": [
    "df_final.drop('Prescription Required',axis=1,inplace=True)"
   ]
  },
  {
   "cell_type": "code",
   "execution_count": null,
   "id": "0f5bbe74",
   "metadata": {},
   "outputs": [],
   "source": [
    "import pandas as pd\n",
    "\n",
    "# Remove rows where ANY column contains \"Tata\" or \"1mg\"\n",
    "df_final = df_final[~df_final.apply(\n",
    "    lambda col: col.astype(str).str.contains(\"Tata|1mg\", case=False, na=False)\n",
    ").any(axis=1)]\n",
    "\n"
   ]
  },
  {
   "cell_type": "code",
   "execution_count": 36,
   "id": "0a6f5075",
   "metadata": {},
   "outputs": [
    {
     "data": {
      "text/html": [
       "<div>\n",
       "<style scoped>\n",
       "    .dataframe tbody tr th:only-of-type {\n",
       "        vertical-align: middle;\n",
       "    }\n",
       "\n",
       "    .dataframe tbody tr th {\n",
       "        vertical-align: top;\n",
       "    }\n",
       "\n",
       "    .dataframe thead th {\n",
       "        text-align: right;\n",
       "    }\n",
       "</style>\n",
       "<table border=\"1\" class=\"dataframe\">\n",
       "  <thead>\n",
       "    <tr style=\"text-align: right;\">\n",
       "      <th></th>\n",
       "      <th>Product Name</th>\n",
       "      <th>Packaging of Medicines</th>\n",
       "      <th>Type of Medicine</th>\n",
       "      <th>Product Price (MRP)</th>\n",
       "      <th>Product Discount Price</th>\n",
       "      <th>ProductName</th>\n",
       "      <th>Product Company</th>\n",
       "      <th>How to Use</th>\n",
       "      <th>Product Use or Indications</th>\n",
       "      <th>Interactions or Warnings</th>\n",
       "      <th>Expert Advice</th>\n",
       "      <th>Pregnancy Interaction</th>\n",
       "      <th>FAQ for Medicine</th>\n",
       "      <th>Side Effects</th>\n",
       "      <th>How it works</th>\n",
       "      <th>Medicine Interaction</th>\n",
       "      <th>Product Composition</th>\n",
       "      <th>Product Description</th>\n",
       "      <th>Generic Keyword</th>\n",
       "    </tr>\n",
       "  </thead>\n",
       "  <tbody>\n",
       "    <tr>\n",
       "      <th>0</th>\n",
       "      <td>Revital Men Multivitamin with Natural Ginseng ...</td>\n",
       "      <td>bottle of 60 soft gelatin capsules</td>\n",
       "      <td>capsules</td>\n",
       "      <td>630.0</td>\n",
       "      <td>Discounted Price: 593</td>\n",
       "      <td>Revital H Men Multivitamin with Calcium, Zinc ...</td>\n",
       "      <td>Sun Pharmaceutical Ind Ltd</td>\n",
       "      <td>NaN</td>\n",
       "      <td>Capsule</td>\n",
       "      <td>Take 1 tablet daily with a glass of water/milk...</td>\n",
       "      <td>NaN</td>\n",
       "      <td>NaN</td>\n",
       "      <td>NaN</td>\n",
       "      <td>NaN</td>\n",
       "      <td>NaN</td>\n",
       "      <td>NaN</td>\n",
       "      <td>NaN</td>\n",
       "      <td>NaN</td>\n",
       "      <td>NaN</td>\n",
       "    </tr>\n",
       "    <tr>\n",
       "      <th>1</th>\n",
       "      <td>Revital Men Multivitamin with Natural Ginseng ...</td>\n",
       "      <td>bottle of 60 soft gelatin capsules</td>\n",
       "      <td>capsules</td>\n",
       "      <td>630.0</td>\n",
       "      <td>Discounted Price: 593</td>\n",
       "      <td>Revital H Men Multivitamin with Calcium, Zinc ...</td>\n",
       "      <td>Sun Pharmaceutical Ind Ltd</td>\n",
       "      <td>NaN</td>\n",
       "      <td>Capsule</td>\n",
       "      <td>Take 1 tablet daily with a glass of water/milk...</td>\n",
       "      <td>NaN</td>\n",
       "      <td>NaN</td>\n",
       "      <td>NaN</td>\n",
       "      <td>NaN</td>\n",
       "      <td>NaN</td>\n",
       "      <td>NaN</td>\n",
       "      <td>NaN</td>\n",
       "      <td>NaN</td>\n",
       "      <td>NaN</td>\n",
       "    </tr>\n",
       "    <tr>\n",
       "      <th>2</th>\n",
       "      <td>Centrum Women Vegetarian Tablets for Muscles, ...</td>\n",
       "      <td>bottle of 50 tablets</td>\n",
       "      <td>tablets</td>\n",
       "      <td>770.0</td>\n",
       "      <td>Discounted Price: 693</td>\n",
       "      <td>Centrum Women Vegetarian Tablets for Muscles, ...</td>\n",
       "      <td>Glaxosmithkline Asia Pvt Ltd</td>\n",
       "      <td>NaN</td>\n",
       "      <td>Hyaluronic Acid, Vitamin A, Vitamin C, Vitamin...</td>\n",
       "      <td>One tablet daily after a meal or as directed b...</td>\n",
       "      <td>NaN</td>\n",
       "      <td>NaN</td>\n",
       "      <td>NaN</td>\n",
       "      <td>NaN</td>\n",
       "      <td>NaN</td>\n",
       "      <td>NaN</td>\n",
       "      <td>NaN</td>\n",
       "      <td>NaN</td>\n",
       "      <td>NaN</td>\n",
       "    </tr>\n",
       "    <tr>\n",
       "      <th>3</th>\n",
       "      <td>Centrum Women Vegetarian Tablets for Muscles, ...</td>\n",
       "      <td>bottle of 50 tablets</td>\n",
       "      <td>tablets</td>\n",
       "      <td>770.0</td>\n",
       "      <td>Discounted Price: 693</td>\n",
       "      <td>Centrum Women Vegetarian Tablets for Muscles, ...</td>\n",
       "      <td>Glaxosmithkline Asia Pvt Ltd</td>\n",
       "      <td>NaN</td>\n",
       "      <td>Hyaluronic Acid, Vitamin A, Vitamin C, Vitamin...</td>\n",
       "      <td>One tablet daily after a meal or as directed b...</td>\n",
       "      <td>NaN</td>\n",
       "      <td>NaN</td>\n",
       "      <td>NaN</td>\n",
       "      <td>NaN</td>\n",
       "      <td>NaN</td>\n",
       "      <td>NaN</td>\n",
       "      <td>NaN</td>\n",
       "      <td>NaN</td>\n",
       "      <td>NaN</td>\n",
       "    </tr>\n",
       "    <tr>\n",
       "      <th>4</th>\n",
       "      <td>Centrum Women Vegetarian Tablets for Muscles, ...</td>\n",
       "      <td>bottle of 50 tablets</td>\n",
       "      <td>tablets</td>\n",
       "      <td>770.0</td>\n",
       "      <td>Discounted Price: 693</td>\n",
       "      <td>Centrum Women Vegetarian Tablets for Muscles, ...</td>\n",
       "      <td>Glaxosmithkline Asia Pvt Ltd</td>\n",
       "      <td>NaN</td>\n",
       "      <td>Hyaluronic Acid, Vitamin A, Vitamin C, Vitamin...</td>\n",
       "      <td>One tablet daily after a meal or as directed b...</td>\n",
       "      <td>NaN</td>\n",
       "      <td>NaN</td>\n",
       "      <td>NaN</td>\n",
       "      <td>NaN</td>\n",
       "      <td>NaN</td>\n",
       "      <td>NaN</td>\n",
       "      <td>NaN</td>\n",
       "      <td>NaN</td>\n",
       "      <td>NaN</td>\n",
       "    </tr>\n",
       "  </tbody>\n",
       "</table>\n",
       "</div>"
      ],
      "text/plain": [
       "                                        Product Name  \\\n",
       "0  Revital Men Multivitamin with Natural Ginseng ...   \n",
       "1  Revital Men Multivitamin with Natural Ginseng ...   \n",
       "2  Centrum Women Vegetarian Tablets for Muscles, ...   \n",
       "3  Centrum Women Vegetarian Tablets for Muscles, ...   \n",
       "4  Centrum Women Vegetarian Tablets for Muscles, ...   \n",
       "\n",
       "               Packaging of Medicines Type of Medicine  Product Price (MRP)  \\\n",
       "0  bottle of 60 soft gelatin capsules         capsules                630.0   \n",
       "1  bottle of 60 soft gelatin capsules         capsules                630.0   \n",
       "2                bottle of 50 tablets          tablets                770.0   \n",
       "3                bottle of 50 tablets          tablets                770.0   \n",
       "4                bottle of 50 tablets          tablets                770.0   \n",
       "\n",
       "  Product Discount Price                                        ProductName  \\\n",
       "0  Discounted Price: 593  Revital H Men Multivitamin with Calcium, Zinc ...   \n",
       "1  Discounted Price: 593  Revital H Men Multivitamin with Calcium, Zinc ...   \n",
       "2  Discounted Price: 693  Centrum Women Vegetarian Tablets for Muscles, ...   \n",
       "3  Discounted Price: 693  Centrum Women Vegetarian Tablets for Muscles, ...   \n",
       "4  Discounted Price: 693  Centrum Women Vegetarian Tablets for Muscles, ...   \n",
       "\n",
       "                Product Company How to Use  \\\n",
       "0    Sun Pharmaceutical Ind Ltd        NaN   \n",
       "1    Sun Pharmaceutical Ind Ltd        NaN   \n",
       "2  Glaxosmithkline Asia Pvt Ltd        NaN   \n",
       "3  Glaxosmithkline Asia Pvt Ltd        NaN   \n",
       "4  Glaxosmithkline Asia Pvt Ltd        NaN   \n",
       "\n",
       "                          Product Use or Indications  \\\n",
       "0                                            Capsule   \n",
       "1                                            Capsule   \n",
       "2  Hyaluronic Acid, Vitamin A, Vitamin C, Vitamin...   \n",
       "3  Hyaluronic Acid, Vitamin A, Vitamin C, Vitamin...   \n",
       "4  Hyaluronic Acid, Vitamin A, Vitamin C, Vitamin...   \n",
       "\n",
       "                            Interactions or Warnings Expert Advice  \\\n",
       "0  Take 1 tablet daily with a glass of water/milk...           NaN   \n",
       "1  Take 1 tablet daily with a glass of water/milk...           NaN   \n",
       "2  One tablet daily after a meal or as directed b...           NaN   \n",
       "3  One tablet daily after a meal or as directed b...           NaN   \n",
       "4  One tablet daily after a meal or as directed b...           NaN   \n",
       "\n",
       "   Pregnancy Interaction  FAQ for Medicine  Side Effects  How it works  \\\n",
       "0                    NaN               NaN           NaN           NaN   \n",
       "1                    NaN               NaN           NaN           NaN   \n",
       "2                    NaN               NaN           NaN           NaN   \n",
       "3                    NaN               NaN           NaN           NaN   \n",
       "4                    NaN               NaN           NaN           NaN   \n",
       "\n",
       "   Medicine Interaction  Product Composition  Product Description  \\\n",
       "0                   NaN                  NaN                  NaN   \n",
       "1                   NaN                  NaN                  NaN   \n",
       "2                   NaN                  NaN                  NaN   \n",
       "3                   NaN                  NaN                  NaN   \n",
       "4                   NaN                  NaN                  NaN   \n",
       "\n",
       "   Generic Keyword  \n",
       "0              NaN  \n",
       "1              NaN  \n",
       "2              NaN  \n",
       "3              NaN  \n",
       "4              NaN  "
      ]
     },
     "execution_count": 36,
     "metadata": {},
     "output_type": "execute_result"
    }
   ],
   "source": [
    "df_final.head()\n"
   ]
  },
  {
   "cell_type": "code",
   "execution_count": 69,
   "id": "be1fdba3",
   "metadata": {},
   "outputs": [],
   "source": [
    "import pandas as pd\n",
    "\n",
    "# Clean MRP column\n",
    "df_final['Product Price (MRP)'] = (\n",
    "    df_final['Product Price (MRP)']\n",
    "    .str.replace('MRP','', regex=False)\n",
    "    .str.strip()\n",
    ")\n",
    "\n",
    "# Clean Discount Price column\n",
    "df_final['Product Discount Price'] = (\n",
    "    df_final['Product Discount Price']\n",
    "    .str.replace('Discounted Price:','', regex=False)\n",
    "    .str.strip()\n",
    ")\n",
    "\n",
    "# If MRP is NaN, fill it with Discount Price\n",
    "df_final['Product Price (MRP)'] = df_final['Product Price (MRP)'].fillna(df_final['Product Discount Price'])\n",
    "\n",
    "# Convert both to numeric\n",
    "df_final['Product Price (MRP)'] = pd.to_numeric(df_final['Product Price (MRP)'], errors='coerce')\n",
    "df_final['Product Discount Price'] = pd.to_numeric(df_final['Product Discount Price'], errors='coerce')\n"
   ]
  },
  {
   "cell_type": "code",
   "execution_count": 45,
   "id": "c5073b24",
   "metadata": {},
   "outputs": [
    {
     "data": {
      "text/plain": [
       "Index(['Product Name', 'Packaging of Medicines', 'Type of Medicine',\n",
       "       'Product Price (MRP)', 'Product Discount Price', 'ProductName',\n",
       "       'Product Company', 'How to Use', 'Product Use or Indications',\n",
       "       'Interactions or Warnings', 'Expert Advice', 'Pregnancy Interaction',\n",
       "       'FAQ for Medicine', 'Side Effects', 'How it works',\n",
       "       'Medicine Interaction', 'Product Composition', 'Product Description',\n",
       "       'Generic Keyword'],\n",
       "      dtype='object')"
      ]
     },
     "execution_count": 45,
     "metadata": {},
     "output_type": "execute_result"
    }
   ],
   "source": [
    "df_final.columns"
   ]
  },
  {
   "cell_type": "code",
   "execution_count": 54,
   "id": "aa61734c",
   "metadata": {},
   "outputs": [
    {
     "data": {
      "text/plain": [
       "np.int64(0)"
      ]
     },
     "execution_count": 54,
     "metadata": {},
     "output_type": "execute_result"
    }
   ],
   "source": [
    "df_final['Product Price (MRP)'].isna().sum()"
   ]
  },
  {
   "cell_type": "code",
   "execution_count": 53,
   "id": "ee19f9de",
   "metadata": {},
   "outputs": [
    {
     "name": "stderr",
     "output_type": "stream",
     "text": [
      "C:\\Users\\MICILMEDS\\AppData\\Local\\Temp\\ipykernel_156344\\3775788797.py:1: FutureWarning: A value is trying to be set on a copy of a DataFrame or Series through chained assignment using an inplace method.\n",
      "The behavior will change in pandas 3.0. This inplace method will never work because the intermediate object on which we are setting values always behaves as a copy.\n",
      "\n",
      "For example, when doing 'df[col].method(value, inplace=True)', try using 'df.method({col: value}, inplace=True)' or df[col] = df[col].method(value) instead, to perform the operation inplace on the original object.\n",
      "\n",
      "\n",
      "  df_final['Product Price (MRP)'].fillna(df_final['Product Discount Price'],inplace=True)\n",
      "C:\\Users\\MICILMEDS\\AppData\\Local\\Temp\\ipykernel_156344\\3775788797.py:1: FutureWarning: Setting an item of incompatible dtype is deprecated and will raise an error in a future version of pandas. Value '['MRP450' 'MRP450' 'MRP200' ... 'MRP799' 'MRP1490' 'MRP1150']' has dtype incompatible with float64, please explicitly cast to a compatible dtype first.\n",
      "  df_final['Product Price (MRP)'].fillna(df_final['Product Discount Price'],inplace=True)\n"
     ]
    }
   ],
   "source": [
    "df_final['Product Price (MRP)'].fillna(df_final['Product Discount Price'],inplace=True)"
   ]
  },
  {
   "cell_type": "code",
   "execution_count": 58,
   "id": "14f728c3",
   "metadata": {},
   "outputs": [],
   "source": [
    "df_final=df_final.drop_duplicates().reset_index()"
   ]
  },
  {
   "cell_type": "code",
   "execution_count": 65,
   "id": "b71b1ecd",
   "metadata": {},
   "outputs": [
    {
     "data": {
      "text/html": [
       "<div>\n",
       "<style scoped>\n",
       "    .dataframe tbody tr th:only-of-type {\n",
       "        vertical-align: middle;\n",
       "    }\n",
       "\n",
       "    .dataframe tbody tr th {\n",
       "        vertical-align: top;\n",
       "    }\n",
       "\n",
       "    .dataframe thead th {\n",
       "        text-align: right;\n",
       "    }\n",
       "</style>\n",
       "<table border=\"1\" class=\"dataframe\">\n",
       "  <thead>\n",
       "    <tr style=\"text-align: right;\">\n",
       "      <th></th>\n",
       "      <th>index</th>\n",
       "      <th>Product Name</th>\n",
       "      <th>Packaging of Medicines</th>\n",
       "      <th>Type of Medicine</th>\n",
       "      <th>Product Price (MRP)</th>\n",
       "      <th>Product Discount Price</th>\n",
       "      <th>ProductName</th>\n",
       "      <th>Product Company</th>\n",
       "      <th>How to Use</th>\n",
       "      <th>Product Use or Indications</th>\n",
       "      <th>Interactions or Warnings</th>\n",
       "      <th>Expert Advice</th>\n",
       "      <th>Pregnancy Interaction</th>\n",
       "      <th>FAQ for Medicine</th>\n",
       "      <th>Side Effects</th>\n",
       "      <th>How it works</th>\n",
       "      <th>Medicine Interaction</th>\n",
       "      <th>Product Composition</th>\n",
       "      <th>Product Description</th>\n",
       "      <th>Generic Keyword</th>\n",
       "    </tr>\n",
       "  </thead>\n",
       "  <tbody>\n",
       "    <tr>\n",
       "      <th>0</th>\n",
       "      <td>0</td>\n",
       "      <td>Revital Men Multivitamin with Natural Ginseng ...</td>\n",
       "      <td>bottle of 60 soft gelatin capsules</td>\n",
       "      <td>capsules</td>\n",
       "      <td>593</td>\n",
       "      <td>593</td>\n",
       "      <td>Revital H Men Multivitamin with Calcium, Zinc ...</td>\n",
       "      <td>Sun Pharmaceutical Ind Ltd</td>\n",
       "      <td>NaN</td>\n",
       "      <td>Capsule</td>\n",
       "      <td>Take 1 tablet daily with a glass of water/milk...</td>\n",
       "      <td>NaN</td>\n",
       "      <td>NaN</td>\n",
       "      <td>NaN</td>\n",
       "      <td>NaN</td>\n",
       "      <td>NaN</td>\n",
       "      <td>NaN</td>\n",
       "      <td>NaN</td>\n",
       "      <td>NaN</td>\n",
       "      <td>NaN</td>\n",
       "    </tr>\n",
       "    <tr>\n",
       "      <th>1</th>\n",
       "      <td>2</td>\n",
       "      <td>Centrum Women Vegetarian Tablets for Muscles, ...</td>\n",
       "      <td>bottle of 50 tablets</td>\n",
       "      <td>tablets</td>\n",
       "      <td>693</td>\n",
       "      <td>693</td>\n",
       "      <td>Centrum Women Vegetarian Tablets for Muscles, ...</td>\n",
       "      <td>Glaxosmithkline Asia Pvt Ltd</td>\n",
       "      <td>NaN</td>\n",
       "      <td>Hyaluronic Acid, Vitamin A, Vitamin C, Vitamin...</td>\n",
       "      <td>One tablet daily after a meal or as directed b...</td>\n",
       "      <td>NaN</td>\n",
       "      <td>NaN</td>\n",
       "      <td>NaN</td>\n",
       "      <td>NaN</td>\n",
       "      <td>NaN</td>\n",
       "      <td>NaN</td>\n",
       "      <td>NaN</td>\n",
       "      <td>NaN</td>\n",
       "      <td>NaN</td>\n",
       "    </tr>\n",
       "    <tr>\n",
       "      <th>2</th>\n",
       "      <td>71</td>\n",
       "      <td>Neurobion Forte Tablet with Vitamin B12 | Help...</td>\n",
       "      <td>strip of 30 tablets</td>\n",
       "      <td>tablets</td>\n",
       "      <td>44.8</td>\n",
       "      <td>44.8</td>\n",
       "      <td>Neurobion Forte Tablet</td>\n",
       "      <td>Procter &amp; Gamble Health Ltd</td>\n",
       "      <td>NaN</td>\n",
       "      <td>Tablet</td>\n",
       "      <td>Two tablets daily or as directed by the physician</td>\n",
       "      <td>NaN</td>\n",
       "      <td>NaN</td>\n",
       "      <td>NaN</td>\n",
       "      <td>NaN</td>\n",
       "      <td>NaN</td>\n",
       "      <td>NaN</td>\n",
       "      <td>NaN</td>\n",
       "      <td>NaN</td>\n",
       "      <td>NaN</td>\n",
       "    </tr>\n",
       "    <tr>\n",
       "      <th>3</th>\n",
       "      <td>73</td>\n",
       "      <td>Protinex High Quality Protein | Nutritional Dr...</td>\n",
       "      <td>jar of 400 gm Powder</td>\n",
       "      <td>Powder</td>\n",
       "      <td>601</td>\n",
       "      <td>601</td>\n",
       "      <td>Protinex Powder Vanilla delight</td>\n",
       "      <td>Nutricia International Pvt Ltd</td>\n",
       "      <td>NaN</td>\n",
       "      <td>NaN</td>\n",
       "      <td>NaN</td>\n",
       "      <td>NaN</td>\n",
       "      <td>NaN</td>\n",
       "      <td>NaN</td>\n",
       "      <td>NaN</td>\n",
       "      <td>NaN</td>\n",
       "      <td>NaN</td>\n",
       "      <td>NaN</td>\n",
       "      <td>NaN</td>\n",
       "      <td>NaN</td>\n",
       "    </tr>\n",
       "    <tr>\n",
       "      <th>4</th>\n",
       "      <td>142</td>\n",
       "      <td>Limcee Vitamin C Chewable Tablet | Flavour Orange</td>\n",
       "      <td>strip of 15 Chewable Tablets</td>\n",
       "      <td>Tablets</td>\n",
       "      <td>25.3</td>\n",
       "      <td>25.3</td>\n",
       "      <td>Limcee Chewable Tablet</td>\n",
       "      <td>Abbott</td>\n",
       "      <td>NaN</td>\n",
       "      <td>Ascorbic Acid I.P, Sodium Ascorbate I.P, Equiv...</td>\n",
       "      <td>This medicine is to be taken by mouth, Chew it...</td>\n",
       "      <td>Read the label carefully before use, Keep out ...</td>\n",
       "      <td>NaN</td>\n",
       "      <td>NaN</td>\n",
       "      <td>NaN</td>\n",
       "      <td>NaN</td>\n",
       "      <td>NaN</td>\n",
       "      <td>NaN</td>\n",
       "      <td>NaN</td>\n",
       "      <td>NaN</td>\n",
       "    </tr>\n",
       "  </tbody>\n",
       "</table>\n",
       "</div>"
      ],
      "text/plain": [
       "   index                                       Product Name  \\\n",
       "0      0  Revital Men Multivitamin with Natural Ginseng ...   \n",
       "1      2  Centrum Women Vegetarian Tablets for Muscles, ...   \n",
       "2     71  Neurobion Forte Tablet with Vitamin B12 | Help...   \n",
       "3     73  Protinex High Quality Protein | Nutritional Dr...   \n",
       "4    142  Limcee Vitamin C Chewable Tablet | Flavour Orange   \n",
       "\n",
       "               Packaging of Medicines Type of Medicine Product Price (MRP)  \\\n",
       "0  bottle of 60 soft gelatin capsules         capsules                 593   \n",
       "1                bottle of 50 tablets          tablets                 693   \n",
       "2                 strip of 30 tablets          tablets                44.8   \n",
       "3                jar of 400 gm Powder           Powder                 601   \n",
       "4        strip of 15 Chewable Tablets          Tablets                25.3   \n",
       "\n",
       "  Product Discount Price                                        ProductName  \\\n",
       "0                    593  Revital H Men Multivitamin with Calcium, Zinc ...   \n",
       "1                    693  Centrum Women Vegetarian Tablets for Muscles, ...   \n",
       "2                   44.8                             Neurobion Forte Tablet   \n",
       "3                    601                    Protinex Powder Vanilla delight   \n",
       "4                   25.3                             Limcee Chewable Tablet   \n",
       "\n",
       "                  Product Company How to Use  \\\n",
       "0      Sun Pharmaceutical Ind Ltd        NaN   \n",
       "1    Glaxosmithkline Asia Pvt Ltd        NaN   \n",
       "2     Procter & Gamble Health Ltd        NaN   \n",
       "3  Nutricia International Pvt Ltd        NaN   \n",
       "4                          Abbott        NaN   \n",
       "\n",
       "                          Product Use or Indications  \\\n",
       "0                                            Capsule   \n",
       "1  Hyaluronic Acid, Vitamin A, Vitamin C, Vitamin...   \n",
       "2                                             Tablet   \n",
       "3                                                NaN   \n",
       "4  Ascorbic Acid I.P, Sodium Ascorbate I.P, Equiv...   \n",
       "\n",
       "                            Interactions or Warnings  \\\n",
       "0  Take 1 tablet daily with a glass of water/milk...   \n",
       "1  One tablet daily after a meal or as directed b...   \n",
       "2  Two tablets daily or as directed by the physician   \n",
       "3                                                NaN   \n",
       "4  This medicine is to be taken by mouth, Chew it...   \n",
       "\n",
       "                                       Expert Advice  Pregnancy Interaction  \\\n",
       "0                                                NaN                    NaN   \n",
       "1                                                NaN                    NaN   \n",
       "2                                                NaN                    NaN   \n",
       "3                                                NaN                    NaN   \n",
       "4  Read the label carefully before use, Keep out ...                    NaN   \n",
       "\n",
       "   FAQ for Medicine  Side Effects  How it works  Medicine Interaction  \\\n",
       "0               NaN           NaN           NaN                   NaN   \n",
       "1               NaN           NaN           NaN                   NaN   \n",
       "2               NaN           NaN           NaN                   NaN   \n",
       "3               NaN           NaN           NaN                   NaN   \n",
       "4               NaN           NaN           NaN                   NaN   \n",
       "\n",
       "   Product Composition  Product Description  Generic Keyword  \n",
       "0                  NaN                  NaN              NaN  \n",
       "1                  NaN                  NaN              NaN  \n",
       "2                  NaN                  NaN              NaN  \n",
       "3                  NaN                  NaN              NaN  \n",
       "4                  NaN                  NaN              NaN  "
      ]
     },
     "execution_count": 65,
     "metadata": {},
     "output_type": "execute_result"
    }
   ],
   "source": [
    "df_final.head()"
   ]
  },
  {
   "cell_type": "code",
   "execution_count": 70,
   "id": "39899340",
   "metadata": {},
   "outputs": [],
   "source": [
    "df_final.to_excel(\"C:\\\\Users\\\\MICILMEDS\\\\Documents\\\\Medi_final\\\\correct_data\\\\Category\\\\Vitimins_nutrition\\\\Final_Vitimins_nurtiton.xlsx\", index=False)\n"
   ]
  }
 ],
 "metadata": {
  "kernelspec": {
   "display_name": "pands",
   "language": "python",
   "name": "python3"
  },
  "language_info": {
   "codemirror_mode": {
    "name": "ipython",
    "version": 3
   },
   "file_extension": ".py",
   "mimetype": "text/x-python",
   "name": "python",
   "nbconvert_exporter": "python",
   "pygments_lexer": "ipython3",
   "version": "3.12.3"
  }
 },
 "nbformat": 4,
 "nbformat_minor": 5
}
