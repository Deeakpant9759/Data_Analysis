{
 "cells": [
  {
   "cell_type": "code",
   "execution_count": null,
   "id": "69a292d5",
   "metadata": {},
   "outputs": [],
   "source": [
    "import pandas as pd\n",
    "import os"
   ]
  },
  {
   "cell_type": "code",
   "execution_count": null,
   "id": "ea4e584c",
   "metadata": {},
   "outputs": [],
   "source": [
    "path = \"C:\\\\Users\\\\MICILMEDS\\\\Documents\\\\Medi_final\\\\correct_data\\\\Category\\\\Macdical_Devices\\\\Scraped Devices\"\n",
    "files = [file for file in os.listdir(path) if not file.startswith('.')] # Ignore hidden files\n",
    "\n",
    "df = pd.DataFrame()\n",
    "\n",
    "for file in files:\n",
    "    current_data = pd.read_csv(path+\"/\"+file)\n",
    "    df = pd.concat([df, current_data])"
   ]
  },
  {
   "cell_type": "code",
   "execution_count": null,
   "id": "df050a3c",
   "metadata": {},
   "outputs": [],
   "source": [
    "df.drop_duplicates(inplace=True)\n"
   ]
  },
  {
   "cell_type": "code",
   "execution_count": null,
   "id": "ef3abebc",
   "metadata": {},
   "outputs": [],
   "source": [
    "df.reset_index(drop=True, inplace=True)"
   ]
  },
  {
   "cell_type": "code",
   "execution_count": null,
   "id": "f90e2364",
   "metadata": {},
   "outputs": [],
   "source": [
    "main_df = pd.read_csv(\"C:\\\\Users\\\\MICILMEDS\\\\Documents\\\\Medi_final\\\\correct_data\\\\Category\\\\Macdical_Devices\\\\medical-devices.csv\")"
   ]
  },
  {
   "cell_type": "code",
   "execution_count": null,
   "id": "42330c95",
   "metadata": {},
   "outputs": [],
   "source": [
    "main_df.drop_duplicates(inplace=True)\n",
    "main_df.reset_index(drop=True, inplace=True)"
   ]
  },
  {
   "cell_type": "code",
   "execution_count": null,
   "id": "eba024e7",
   "metadata": {},
   "outputs": [],
   "source": [
    "df.head()"
   ]
  },
  {
   "cell_type": "code",
   "execution_count": null,
   "id": "42bff233",
   "metadata": {},
   "outputs": [],
   "source": [
    "main_df.head()"
   ]
  },
  {
   "cell_type": "code",
   "execution_count": null,
   "id": "8f37dd53",
   "metadata": {},
   "outputs": [],
   "source": [
    "final_data =pd.merge(main_df, df, how='inner', left_on='1mg_url', right_on='url', indicator=True)"
   ]
  },
  {
   "cell_type": "code",
   "execution_count": null,
   "id": "cf5aa2fb",
   "metadata": {},
   "outputs": [],
   "source": [
    "final_data.drop_duplicates(inplace=True)\n",
    "final_data.reset_index(drop=True, inplace=True)\n",
    "final_data.head()\n"
   ]
  },
  {
   "cell_type": "code",
   "execution_count": null,
   "id": "06d67cf4",
   "metadata": {},
   "outputs": [],
   "source": [
    "final_data.columns"
   ]
  },
  {
   "cell_type": "code",
   "execution_count": null,
   "id": "80c632b5",
   "metadata": {},
   "outputs": [],
   "source": [
    "final_data.drop(columns=['_merge', 'url','1mg_url','row_number','ProductName'], inplace=True)"
   ]
  },
  {
   "cell_type": "code",
   "execution_count": null,
   "id": "25cdff49",
   "metadata": {},
   "outputs": [],
   "source": [
    "final_data.head()"
   ]
  },
  {
   "cell_type": "code",
   "execution_count": null,
   "id": "da47c9e3",
   "metadata": {},
   "outputs": [],
   "source": [
    "df_final = final_data.rename(columns={\n",
    "    \"name\": \"Product Name\",\n",
    "    \"size_of_bottle\": \"Packaging of Medicines\",\n",
    "    \"type of product\": \"Type of Medicine\",\n",
    "    \"MRPs\": \"Product Price (MRP)\",\n",
    "    \"selling_price\": \"Product Discount Price\",\n",
    "    \"MarketerName\": \"Product Company\",\n",
    "    \"Uses\": \"How to Use\",\n",
    "    \"Features\": \"Product Use or Indications\",\n",
    "    \"Directions\": \"Interactions or Warnings\",\n",
    "    \"Safety\": \"Expert Advice\"\n",
    "})\n"
   ]
  },
  {
   "cell_type": "code",
   "execution_count": null,
   "id": "f71a6e3f",
   "metadata": {},
   "outputs": [],
   "source": [
    "df_final.head()"
   ]
  },
  {
   "cell_type": "code",
   "execution_count": null,
   "id": "d92cf8d4",
   "metadata": {},
   "outputs": [],
   "source": [
    "df_final.columns"
   ]
  },
  {
   "cell_type": "code",
   "execution_count": null,
   "id": "506b8595",
   "metadata": {},
   "outputs": [],
   "source": [
    "new_columns = (['Product Name',\n",
    "               'Type of Medicine',\n",
    "               'Product Price (MRP)',\n",
    "               'Product Discount Price',\n",
    "               'Prescription Required',\n",
    "               'Product Company',\n",
    "               'Packaging of Medicines'\n",
    "               ,'Pregnancy Interaction'\n",
    "               ,'FAQ for Medicine',\n",
    "               'Expert Advice',\n",
    "               'Side Effects',\n",
    "               'How it works',\n",
    "               'Medicine Interaction',\n",
    "               'How to Use',\n",
    "               'Product Use or Indications',\n",
    "               'Product Composition',\n",
    "               'Interactions or Warnings',\n",
    "               'Product Description',\n",
    "               'Generic Keyword'])\n"
   ]
  },
  {
   "cell_type": "code",
   "execution_count": null,
   "id": "75eea41f",
   "metadata": {},
   "outputs": [],
   "source": [
    "import numpy as np\n",
    "for col in new_columns:\n",
    "    if col not in df_final.columns:\n",
    "        df_final[col] = np.nan"
   ]
  },
  {
   "cell_type": "code",
   "execution_count": null,
   "id": "dacab6fe",
   "metadata": {},
   "outputs": [],
   "source": [
    "df_final.head()"
   ]
  },
  {
   "cell_type": "markdown",
   "id": "5364e1f8",
   "metadata": {},
   "source": [
    "Alapabate correct"
   ]
  },
  {
   "cell_type": "markdown",
   "id": "e715e0e6",
   "metadata": {},
   "source": []
  },
  {
   "cell_type": "code",
   "execution_count": null,
   "id": "86b997bc",
   "metadata": {},
   "outputs": [],
   "source": [
    "df_final.head()"
   ]
  },
  {
   "cell_type": "code",
   "execution_count": null,
   "id": "d2480211",
   "metadata": {},
   "outputs": [],
   "source": [
    "df_final.drop('Prescription Required',axis=1,inplace=True)"
   ]
  },
  {
   "cell_type": "code",
   "execution_count": null,
   "id": "0f5bbe74",
   "metadata": {},
   "outputs": [],
   "source": [
    "import pandas as pd\n",
    "\n",
    "# Remove rows where ANY column contains \"Tata\" or \"1mg\"\n",
    "df_final = df_final[~df_final.apply(\n",
    "    lambda col: col.astype(str).str.contains(\"Tata|1mg\", case=False, na=False)\n",
    ").any(axis=1)]\n",
    "\n"
   ]
  },
  {
   "cell_type": "code",
   "execution_count": null,
   "id": "a1bc5f8c",
   "metadata": {},
   "outputs": [],
   "source": [
    "df_final.head()"
   ]
  },
  {
   "cell_type": "code",
   "execution_count": null,
   "id": "ca7022cd",
   "metadata": {},
   "outputs": [],
   "source": [
    "df_final.info()"
   ]
  },
  {
   "cell_type": "code",
   "execution_count": null,
   "id": "be1fdba3",
   "metadata": {},
   "outputs": [],
   "source": [
    "import pandas as pd\n",
    "\n",
    "# Clean MRP column\n",
    "df_final['Product Price (MRP)'] = (\n",
    "    df_final['Product Price (MRP)']\n",
    "    .str.replace('MRP','', regex=False)\n",
    "    .str.strip()\n",
    ")\n",
    "\n",
    "# Clean Discount Price column\n",
    "df_final['Product Discount Price'] = (\n",
    "    df_final['Product Discount Price']\n",
    "    .str.replace('Discounted Price:','', regex=False)\n",
    "    .str.strip()\n",
    ")\n",
    "\n",
    "# If MRP is NaN, fill it with Discount Price\n",
    "df_final['Product Price (MRP)'] = df_final['Product Price (MRP)'].fillna(df_final['Product Discount Price'])\n",
    "\n",
    "# Convert both to numeric\n",
    "df_final['Product Price (MRP)'] = pd.to_numeric(df_final['Product Price (MRP)'], errors='coerce')\n",
    "df_final['Product Discount Price'] = pd.to_numeric(df_final['Product Discount Price'], errors='coerce')\n"
   ]
  },
  {
   "cell_type": "code",
   "execution_count": null,
   "id": "39899340",
   "metadata": {},
   "outputs": [],
   "source": [
    "df_final.to_excel(\"C:\\\\Users\\\\MICILMEDS\\\\Documents\\\\Medi_final\\\\correct_data\\\\Category\\\\medical_Devices_Final.xlsx\", index=False)\n"
   ]
  },
  {
   "cell_type": "code",
   "execution_count": null,
   "id": "fbe313c6",
   "metadata": {},
   "outputs": [],
   "source": []
  }
 ],
 "metadata": {
  "kernelspec": {
   "display_name": "pands",
   "language": "python",
   "name": "python3"
  },
  "language_info": {
   "codemirror_mode": {
    "name": "ipython",
    "version": 3
   },
   "file_extension": ".py",
   "mimetype": "text/x-python",
   "name": "python",
   "nbconvert_exporter": "python",
   "pygments_lexer": "ipython3",
   "version": "3.12.3"
  }
 },
 "nbformat": 4,
 "nbformat_minor": 5
}
