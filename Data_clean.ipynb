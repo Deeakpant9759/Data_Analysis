{
 "cells": [
  {
   "cell_type": "code",
   "execution_count": 2,
   "id": "005d47d4",
   "metadata": {},
   "outputs": [],
   "source": [
    "import pandas as pd"
   ]
  },
  {
   "cell_type": "code",
   "execution_count": 3,
   "id": "ad829f3d",
   "metadata": {},
   "outputs": [],
   "source": [
    "df = pd.read_excel(\"C:\\\\Users\\\\MICILMEDS\\\\Documents\\\\Medi_final\\\\correct_data\\\\Category\\\\Homeopathy_Medicines\\\\Upto4.5k.xlsx\")\n",
    "df2 = pd.read_excel(\"C:\\\\Users\\\\MICILMEDS\\\\Documents\\\\Medi_final\\\\correct_data\\\\Category\\\\Homeopathy_Medicines\\\\UPTO4.5 TO 14.5.xlsx\")\n",
    "df3 = pd.read_excel(\"C:\\\\Users\\\\MICILMEDS\\\\Documents\\\\Medi_final\\\\correct_data\\\\Category\\\\Homeopathy_Medicines\\\\UPTO14.5 TO 24.5.xlsx\")\n",
    "df4 = pd.read_excel(\"C:\\\\Users\\\\MICILMEDS\\\\Documents\\\\Medi_final\\\\correct_data\\\\Category\\\\Homeopathy_Medicines\\\\UPTO24.5 to 34.5.xlsx\")\n",
    "df5 = pd.read_excel(\"C:\\\\Users\\\\MICILMEDS\\\\Documents\\\\Medi_final\\\\correct_data\\\\Category\\\\Homeopathy_Medicines\\\\upto 34.5k to 44.5.xlsx\")\n",
    "df6 = pd.read_excel(\"C:\\\\Users\\\\MICILMEDS\\\\Documents\\\\Medi_final\\\\correct_data\\\\Category\\\\Homeopathy_Medicines\\\\44.5 to 55.xlsx\")"
   ]
  },
  {
   "cell_type": "code",
   "execution_count": 4,
   "id": "d4b0ef6c",
   "metadata": {},
   "outputs": [],
   "source": [
    "df.drop_duplicates(inplace=True)\n",
    "df2.drop_duplicates(inplace=True)\n",
    "df3.drop_duplicates(inplace=True)\n",
    "df4.drop_duplicates(inplace=True)\n",
    "df5.drop_duplicates(inplace=True)\n",
    "df6.drop_duplicates(inplace=True)"
   ]
  },
  {
   "cell_type": "code",
   "execution_count": 6,
   "id": "91cfc321",
   "metadata": {},
   "outputs": [],
   "source": [
    "df.to_excel('C:\\\\Users\\\\MICILMEDS\\\\Documents\\\\Medi_final\\\\correct_data\\\\Category\\\\Homeopathy_Medicines\\\\Upto4.5k.xlsx',index=False)\n",
    "df2.to_excel('C:\\\\Users\\\\MICILMEDS\\\\Documents\\\\Medi_final\\\\correct_data\\\\Category\\\\Homeopathy_Medicines\\\\Upto4.5 TO 14.5.xlsx',index=False)\n",
    "df3.to_excel('C:\\\\Users\\\\MICILMEDS\\\\Documents\\\\Medi_final\\\\correct_data\\\\Category\\\\Homeopathy_Medicines\\\\Upto14.5 TO 24.5.xlsx',index=False)\n",
    "df4.to_excel('C:\\\\Users\\\\MICILMEDS\\\\Documents\\\\Medi_final\\\\correct_data\\\\Category\\\\Homeopathy_Medicines\\\\Upto24.5 to 34.5.xlsx',index=False)\n",
    "df5.to_excel('C:\\\\Users\\\\MICILMEDS\\\\Documents\\\\Medi_final\\\\correct_data\\\\Category\\\\Homeopathy_Medicines\\\\Upto34.5k to 44.5.xlsx',index=False)\n",
    "df6.to_excel('C:\\\\Users\\\\MICILMEDS\\\\Documents\\\\Medi_final\\\\correct_data\\\\Category\\\\Homeopathy_Medicines\\\\Upto44.5 to 55.xlsx',index=False)\n"
   ]
  },
  {
   "cell_type": "code",
   "execution_count": 7,
   "id": "6ff73d83",
   "metadata": {},
   "outputs": [
    {
     "name": "stdout",
     "output_type": "stream",
     "text": [
      "Saved rows 1 to 10000 as C:\\Users\\MICILMEDS\\Documents\\Medi_final\\correct_data\\Category\\All Brand\\1_to_10000.xlsx\n",
      "Saved rows 10001 to 20000 as C:\\Users\\MICILMEDS\\Documents\\Medi_final\\correct_data\\Category\\All Brand\\10001_to_20000.xlsx\n",
      "Saved rows 20001 to 30000 as C:\\Users\\MICILMEDS\\Documents\\Medi_final\\correct_data\\Category\\All Brand\\20001_to_30000.xlsx\n",
      "Saved rows 30001 to 40000 as C:\\Users\\MICILMEDS\\Documents\\Medi_final\\correct_data\\Category\\All Brand\\30001_to_40000.xlsx\n",
      "Saved rows 40001 to 50000 as C:\\Users\\MICILMEDS\\Documents\\Medi_final\\correct_data\\Category\\All Brand\\40001_to_50000.xlsx\n",
      "Saved rows 50001 to 60000 as C:\\Users\\MICILMEDS\\Documents\\Medi_final\\correct_data\\Category\\All Brand\\50001_to_60000.xlsx\n",
      "Saved rows 60001 to 70000 as C:\\Users\\MICILMEDS\\Documents\\Medi_final\\correct_data\\Category\\All Brand\\60001_to_70000.xlsx\n",
      "Saved rows 70001 to 80000 as C:\\Users\\MICILMEDS\\Documents\\Medi_final\\correct_data\\Category\\All Brand\\70001_to_80000.xlsx\n",
      "Saved rows 80001 to 90000 as C:\\Users\\MICILMEDS\\Documents\\Medi_final\\correct_data\\Category\\All Brand\\80001_to_90000.xlsx\n",
      "Saved rows 90001 to 100000 as C:\\Users\\MICILMEDS\\Documents\\Medi_final\\correct_data\\Category\\All Brand\\90001_to_100000.xlsx\n",
      "Saved rows 100001 to 110000 as C:\\Users\\MICILMEDS\\Documents\\Medi_final\\correct_data\\Category\\All Brand\\100001_to_110000.xlsx\n",
      "Saved rows 110001 to 120000 as C:\\Users\\MICILMEDS\\Documents\\Medi_final\\correct_data\\Category\\All Brand\\110001_to_120000.xlsx\n",
      "Saved rows 120001 to 130000 as C:\\Users\\MICILMEDS\\Documents\\Medi_final\\correct_data\\Category\\All Brand\\120001_to_130000.xlsx\n",
      "Saved rows 130001 to 136274 as C:\\Users\\MICILMEDS\\Documents\\Medi_final\\correct_data\\Category\\All Brand\\130001_to_136274.xlsx\n"
     ]
    }
   ],
   "source": [
    "import pandas as pd\n",
    "\n",
    "# Example: your existing DataFrame\n",
    "df = pd.read_excel(\"C:\\\\Users\\\\MICILMEDS\\\\Documents\\\\Medi_final\\\\correct_data\\\\Category\\\\All_brands.xlsx\")  # replace with your file if needed\n",
    "\n",
    "# Set chunk size\n",
    "chunk_size = 10000\n",
    "total_rows = len(df)\n",
    "\n",
    "# Loop through the DataFrame in chunks\n",
    "for start in range(0, total_rows, chunk_size):\n",
    "    end = min(start + chunk_size, total_rows)  # last chunk may be smaller\n",
    "    chunk = df.iloc[start:end]\n",
    "    \n",
    "    # Create file name\n",
    "    file_name = f\"C:\\\\Users\\\\MICILMEDS\\\\Documents\\\\Medi_final\\\\correct_data\\\\Category\\\\All Brand\\\\{start + 1}_to_{end}.xlsx\"\n",
    "\n",
    "    # Save chunk to Excel\n",
    "    chunk.to_excel(file_name, index=False)\n",
    "    \n",
    "    print(f\"Saved rows {start + 1} to {end} as {file_name}\")\n"
   ]
  }
 ],
 "metadata": {
  "kernelspec": {
   "display_name": "pands",
   "language": "python",
   "name": "python3"
  },
  "language_info": {
   "codemirror_mode": {
    "name": "ipython",
    "version": 3
   },
   "file_extension": ".py",
   "mimetype": "text/x-python",
   "name": "python",
   "nbconvert_exporter": "python",
   "pygments_lexer": "ipython3",
   "version": "3.12.3"
  }
 },
 "nbformat": 4,
 "nbformat_minor": 5
}
