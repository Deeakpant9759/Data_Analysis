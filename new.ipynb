{
 "cells": [
  {
   "cell_type": "code",
   "execution_count": null,
   "id": "85a83d65",
   "metadata": {},
   "outputs": [],
   "source": [
    "import pandas as pd\n",
    "import numpy as np"
   ]
  },
  {
   "cell_type": "code",
   "execution_count": null,
   "id": "7d9eebc8",
   "metadata": {},
   "outputs": [],
   "source": [
    "coffee = pd.read_csv(r\"complete-pandas-tutorial\\warmup-data\\coffee.csv\")\n",
    "coffee.index.name = 'ID'\n",
    "bios = pd.read_csv(r\"complete-pandas-tutorial\\data\\bios.csv\")\n",
    "bios.index = bios[\"athlete_id\"]\n",
    "bios = bios.drop(\"athlete_id\",axis=1)"
   ]
  },
  {
   "cell_type": "code",
   "execution_count": null,
   "id": "388ad36e",
   "metadata": {},
   "outputs": [],
   "source": [
    "bios['born_country'].unique()"
   ]
  },
  {
   "cell_type": "code",
   "execution_count": null,
   "id": "abc84b42",
   "metadata": {},
   "outputs": [],
   "source": [
    "bios[\"born_date\"] = pd.to_datetime(bios[\"born_date\"])\n",
    "bios.info()\n"
   ]
  },
  {
   "cell_type": "code",
   "execution_count": null,
   "id": "32018c83",
   "metadata": {},
   "outputs": [],
   "source": [
    "bios[(bios['height_cm']>215)&(bios['born_country']=='USA')]"
   ]
  },
  {
   "cell_type": "code",
   "execution_count": null,
   "id": "3ea6b00a",
   "metadata": {},
   "outputs": [],
   "source": [
    "bios[bios['born_country'].str.contains('IND', case=False, na=False)]\n"
   ]
  },
  {
   "cell_type": "code",
   "execution_count": null,
   "id": "7f3cc2a8",
   "metadata": {},
   "outputs": [],
   "source": [
    "bios[(bios['born_country']=='IND')&(bios['NOC']!='India')]"
   ]
  },
  {
   "cell_type": "code",
   "execution_count": null,
   "id": "de698499",
   "metadata": {},
   "outputs": [],
   "source": [
    "bios[\n",
    "    (bios['born_country'] != 'IND') &      # country not IND\n",
    "    (bios['NOC'] == 'India') &             \n",
    "    (bios['born_country'].notna()) &\n",
    "    (bios['born_date']>'1947-08-15')                  \n",
    "]\n",
    "\n"
   ]
  },
  {
   "cell_type": "code",
   "execution_count": null,
   "id": "bb78e002",
   "metadata": {},
   "outputs": [],
   "source": [
    "coffee"
   ]
  },
  {
   "cell_type": "code",
   "execution_count": 62,
   "id": "981438f5",
   "metadata": {},
   "outputs": [
    {
     "data": {
      "text/html": [
       "<div>\n",
       "<style scoped>\n",
       "    .dataframe tbody tr th:only-of-type {\n",
       "        vertical-align: middle;\n",
       "    }\n",
       "\n",
       "    .dataframe tbody tr th {\n",
       "        vertical-align: top;\n",
       "    }\n",
       "\n",
       "    .dataframe thead th {\n",
       "        text-align: right;\n",
       "    }\n",
       "</style>\n",
       "<table border=\"1\" class=\"dataframe\">\n",
       "  <thead>\n",
       "    <tr style=\"text-align: right;\">\n",
       "      <th></th>\n",
       "      <th>Day</th>\n",
       "      <th>Coffee Type</th>\n",
       "      <th>Units Sold</th>\n",
       "      <th>new_Price</th>\n",
       "    </tr>\n",
       "    <tr>\n",
       "      <th>ID</th>\n",
       "      <th></th>\n",
       "      <th></th>\n",
       "      <th></th>\n",
       "      <th></th>\n",
       "    </tr>\n",
       "  </thead>\n",
       "  <tbody>\n",
       "    <tr>\n",
       "      <th>0</th>\n",
       "      <td>Monday</td>\n",
       "      <td>Espresso</td>\n",
       "      <td>25</td>\n",
       "      <td>3.99</td>\n",
       "    </tr>\n",
       "    <tr>\n",
       "      <th>1</th>\n",
       "      <td>Monday</td>\n",
       "      <td>cold coffe</td>\n",
       "      <td>35</td>\n",
       "      <td>None</td>\n",
       "    </tr>\n",
       "    <tr>\n",
       "      <th>2</th>\n",
       "      <td>Tuesday</td>\n",
       "      <td>Espresso</td>\n",
       "      <td>30</td>\n",
       "      <td>3.99</td>\n",
       "    </tr>\n",
       "    <tr>\n",
       "      <th>3</th>\n",
       "      <td>Tuesday</td>\n",
       "      <td>Latte</td>\n",
       "      <td>20</td>\n",
       "      <td>4.59</td>\n",
       "    </tr>\n",
       "    <tr>\n",
       "      <th>4</th>\n",
       "      <td>Wednesday</td>\n",
       "      <td>Espresso</td>\n",
       "      <td>35</td>\n",
       "      <td>3.99</td>\n",
       "    </tr>\n",
       "    <tr>\n",
       "      <th>5</th>\n",
       "      <td>Wednesday</td>\n",
       "      <td>Latte</td>\n",
       "      <td>25</td>\n",
       "      <td>4.59</td>\n",
       "    </tr>\n",
       "    <tr>\n",
       "      <th>6</th>\n",
       "      <td>Thursday</td>\n",
       "      <td>Espresso</td>\n",
       "      <td>40</td>\n",
       "      <td>3.99</td>\n",
       "    </tr>\n",
       "    <tr>\n",
       "      <th>7</th>\n",
       "      <td>Thursday</td>\n",
       "      <td>Latte</td>\n",
       "      <td>30</td>\n",
       "      <td>4.59</td>\n",
       "    </tr>\n",
       "    <tr>\n",
       "      <th>8</th>\n",
       "      <td>Friday</td>\n",
       "      <td>Espresso</td>\n",
       "      <td>45</td>\n",
       "      <td>3.99</td>\n",
       "    </tr>\n",
       "    <tr>\n",
       "      <th>9</th>\n",
       "      <td>Friday</td>\n",
       "      <td>Latte</td>\n",
       "      <td>35</td>\n",
       "      <td>4.59</td>\n",
       "    </tr>\n",
       "    <tr>\n",
       "      <th>10</th>\n",
       "      <td>Saturday</td>\n",
       "      <td>Espresso</td>\n",
       "      <td>45</td>\n",
       "      <td>3.99</td>\n",
       "    </tr>\n",
       "    <tr>\n",
       "      <th>11</th>\n",
       "      <td>Saturday</td>\n",
       "      <td>Latte</td>\n",
       "      <td>35</td>\n",
       "      <td>4.59</td>\n",
       "    </tr>\n",
       "    <tr>\n",
       "      <th>12</th>\n",
       "      <td>Sunday</td>\n",
       "      <td>Espresso</td>\n",
       "      <td>45</td>\n",
       "      <td>3.99</td>\n",
       "    </tr>\n",
       "    <tr>\n",
       "      <th>13</th>\n",
       "      <td>Sunday</td>\n",
       "      <td>Latte</td>\n",
       "      <td>35</td>\n",
       "      <td>4.59</td>\n",
       "    </tr>\n",
       "  </tbody>\n",
       "</table>\n",
       "</div>"
      ],
      "text/plain": [
       "          Day Coffee Type Units Sold new_Price\n",
       "ID                                            \n",
       "0      Monday    Espresso         25      3.99\n",
       "1      Monday  cold coffe         35      None\n",
       "2     Tuesday    Espresso         30      3.99\n",
       "3     Tuesday       Latte         20      4.59\n",
       "4   Wednesday    Espresso         35      3.99\n",
       "5   Wednesday       Latte         25      4.59\n",
       "6    Thursday    Espresso         40      3.99\n",
       "7    Thursday       Latte         30      4.59\n",
       "8      Friday    Espresso         45      3.99\n",
       "9      Friday       Latte         35      4.59\n",
       "10   Saturday    Espresso         45      3.99\n",
       "11   Saturday       Latte         35      4.59\n",
       "12     Sunday    Espresso         45      3.99\n",
       "13     Sunday       Latte         35      4.59"
      ]
     },
     "execution_count": 62,
     "metadata": {},
     "output_type": "execute_result"
    }
   ],
   "source": [
    "coffee.iloc[1,1]='cold coffe'\n",
    "coffee.iloc[1,2]=35\n",
    "coffee['new_Price']=np.where(coffee['Coffee Type']=='Espresso',3.99,None)\n",
    "coffee['new_Price']=np.where(coffee['Coffee Type']=='Latte',4.59,coffee['new_Price'])\n",
    "coffee"
   ]
  },
  {
   "cell_type": "code",
   "execution_count": null,
   "id": "319ae555",
   "metadata": {},
   "outputs": [],
   "source": []
  }
 ],
 "metadata": {
  "kernelspec": {
   "display_name": "pands",
   "language": "python",
   "name": "python3"
  },
  "language_info": {
   "codemirror_mode": {
    "name": "ipython",
    "version": 3
   },
   "file_extension": ".py",
   "mimetype": "text/x-python",
   "name": "python",
   "nbconvert_exporter": "python",
   "pygments_lexer": "ipython3",
   "version": "3.12.3"
  }
 },
 "nbformat": 4,
 "nbformat_minor": 5
}
