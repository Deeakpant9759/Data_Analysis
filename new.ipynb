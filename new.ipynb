{
 "cells": [
  {
   "cell_type": "code",
   "execution_count": null,
   "id": "85a83d65",
   "metadata": {},
   "outputs": [],
   "source": [
    "import pandas as pd\n",
    "import numpy as np"
   ]
  },
  {
   "cell_type": "code",
   "execution_count": null,
   "id": "7d9eebc8",
   "metadata": {},
   "outputs": [],
   "source": [
    "coffee = pd.read_csv(r\"complete-pandas-tutorial\\warmup-data\\coffee.csv\")\n",
    "coffee.index.name = 'ID'\n",
    "bios = pd.read_csv(r\"complete-pandas-tutorial\\data\\bios.csv\")\n",
    "bios.index = bios[\"athlete_id\"]\n",
    "bios = bios.drop(\"athlete_id\",axis=1)\n",
    "bios_new = bios.copy()"
   ]
  },
  {
   "cell_type": "code",
   "execution_count": null,
   "id": "388ad36e",
   "metadata": {},
   "outputs": [],
   "source": [
    "bios['born_country'].unique()"
   ]
  },
  {
   "cell_type": "code",
   "execution_count": null,
   "id": "abc84b42",
   "metadata": {},
   "outputs": [],
   "source": [
    "bios[\"born_date\"] = pd.to_datetime(bios[\"born_date\"])\n",
    "bios.info()\n"
   ]
  },
  {
   "cell_type": "code",
   "execution_count": null,
   "id": "32018c83",
   "metadata": {},
   "outputs": [],
   "source": [
    "bios[(bios['height_cm']>215)&(bios['born_country']=='USA')]"
   ]
  },
  {
   "cell_type": "code",
   "execution_count": null,
   "id": "3ea6b00a",
   "metadata": {},
   "outputs": [],
   "source": [
    "bios[bios['born_country'].str.contains('IND', case=False, na=False)]\n"
   ]
  },
  {
   "cell_type": "code",
   "execution_count": null,
   "id": "7f3cc2a8",
   "metadata": {},
   "outputs": [],
   "source": [
    "bios[(bios['born_country']=='IND')&(bios['NOC']!='India')]"
   ]
  },
  {
   "cell_type": "code",
   "execution_count": null,
   "id": "de698499",
   "metadata": {},
   "outputs": [],
   "source": [
    "bios[\n",
    "    (bios['born_country'] != 'IND') &      # country not IND\n",
    "    (bios['NOC'] == 'India') &             \n",
    "    (bios['born_country'].notna()) &\n",
    "    (bios['born_date']>'1947-08-15')                  \n",
    "]\n",
    "\n"
   ]
  },
  {
   "cell_type": "code",
   "execution_count": null,
   "id": "bb78e002",
   "metadata": {},
   "outputs": [],
   "source": [
    "coffee"
   ]
  },
  {
   "cell_type": "code",
   "execution_count": null,
   "id": "981438f5",
   "metadata": {},
   "outputs": [],
   "source": [
    "coffee.iloc[1,1]='cold coffe'\n",
    "coffee.iloc[1,2]=35\n",
    "coffee['new_Price']=np.where(coffee['Coffee Type']=='Espresso',3.99,None)\n",
    "coffee['new_Price']=np.where(coffee['Coffee Type']=='Latte',4.59,coffee['new_Price'])\n",
    "coffee"
   ]
  },
  {
   "cell_type": "code",
   "execution_count": null,
   "id": "319ae555",
   "metadata": {},
   "outputs": [],
   "source": [
    "coffee['revenue'] = coffee['Units Sold']*coffee['new_Price']\n",
    "coffee"
   ]
  },
  {
   "cell_type": "code",
   "execution_count": null,
   "id": "c7cf619a",
   "metadata": {},
   "outputs": [],
   "source": [
    "coffee[(coffee['revenue']>170) & (coffee['Day']=='Friday')]"
   ]
  },
  {
   "cell_type": "code",
   "execution_count": null,
   "id": "8e47dd19",
   "metadata": {},
   "outputs": [],
   "source": [
    "coffee.rename(columns={'new_Price':'Price'},inplace=True)"
   ]
  },
  {
   "cell_type": "code",
   "execution_count": null,
   "id": "fddf3f15",
   "metadata": {},
   "outputs": [],
   "source": [
    "coffee"
   ]
  },
  {
   "cell_type": "code",
   "execution_count": null,
   "id": "b3ca591c",
   "metadata": {},
   "outputs": [],
   "source": [
    "bios_new['First_name']=bios_new['name'].str.split(' ').str[0]"
   ]
  },
  {
   "cell_type": "code",
   "execution_count": null,
   "id": "8d63cdb6",
   "metadata": {},
   "outputs": [],
   "source": [
    "bios_new.loc[bios_new['First_name'] ==\"Keith\"]\n",
    "bios_new.query('First_name==\"Keith\"')\n"
   ]
  },
  {
   "cell_type": "code",
   "execution_count": null,
   "id": "3bd36b0d",
   "metadata": {},
   "outputs": [],
   "source": [
    "bios_new['born_date'] = pd.to_datetime(bios_new['born_date'])\n",
    "bios_new['born_year'] = bios_new['born_date'].dt.year\n",
    "bios_new.info()\n",
    "\n"
   ]
  },
  {
   "cell_type": "code",
   "execution_count": null,
   "id": "2ae61e51",
   "metadata": {},
   "outputs": [],
   "source": [
    "bios_new"
   ]
  },
  {
   "cell_type": "code",
   "execution_count": null,
   "id": "72ef64fc",
   "metadata": {},
   "outputs": [],
   "source": [
    "bios_new.to_csv('.bios_new.csv')"
   ]
  }
 ],
 "metadata": {
  "kernelspec": {
   "display_name": "pands",
   "language": "python",
   "name": "python3"
  },
  "language_info": {
   "codemirror_mode": {
    "name": "ipython",
    "version": 3
   },
   "file_extension": ".py",
   "mimetype": "text/x-python",
   "name": "python",
   "nbconvert_exporter": "python",
   "pygments_lexer": "ipython3",
   "version": "3.12.3"
  }
 },
 "nbformat": 4,
 "nbformat_minor": 5
}
