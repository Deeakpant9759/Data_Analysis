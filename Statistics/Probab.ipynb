{
 "cells": [
  {
   "cell_type": "code",
   "execution_count": 28,
   "id": "38c9e342",
   "metadata": {},
   "outputs": [],
   "source": [
    "import pandas as pd\n",
    "import numpy as np\n",
    "import math\n",
    "import matplotlib.pyplot as plt"
   ]
  },
  {
   "cell_type": "code",
   "execution_count": null,
   "id": "8b2619ea",
   "metadata": {},
   "outputs": [
    {
     "name": "stdout",
     "output_type": "stream",
     "text": [
      "Minimum people: 153\n"
     ]
    }
   ],
   "source": [
    "import math\n",
    "data = {}\n",
    "n = 1\n",
    "while True:\n",
    "    # probability all birthdays unique\n",
    "        x = math.factorial(365) / (math.factorial(365 - n) * (365 ** n))\n",
    "    data[n]=x\n",
    "    # probability of collision\n",
    "    p_collision = 1 - x\n",
    "\n",
    "    if p_collision == 1:\n",
    "        print(\"Minimum people:\", n)\n",
    "        break\n",
    "    n+=1\n"
   ]
  },
  {
   "cell_type": "code",
   "execution_count": 36,
   "id": "3b42e4dd",
   "metadata": {},
   "outputs": [
    {
     "data": {
      "image/png": "[encoded data removed]",
      "text/plain": [
       "<Figure size 800x500 with 1 Axes>"
      ]
     },
     "metadata": {},
     "output_type": "display_data"
    }
   ],
   "source": [
    "df = pd.DataFrame(list(data.items()), columns=['People', 'Probability_Unique'])\n",
    "df['Probability_Collision'] = 1 - df['Probability_Unique']\n",
    "\n",
    "df.plot(x='People', y='Probability_Collision', kind='line', figsize=(8,5))\n",
    "plt.axhline(0.5, color='r', linestyle='--', label='50% threshold')\n",
    "plt.grid()\n",
    "plt.xticks()\n",
    "plt.legend()\n",
    "plt.show()\n"
   ]
  },
  {
   "cell_type": "markdown",
   "id": "af422817",
   "metadata": {},
   "source": [
    "What are the Number of perosn N where the Probablity of Getting a Pesons Birthday is in leap year is least one"
   ]
  },
  {
   "cell_type": "code",
   "execution_count": null,
   "id": "ac03a60c",
   "metadata": {},
   "outputs": [],
   "source": []
  },
  {
   "cell_type": "markdown",
   "id": "f9d8ca49",
   "metadata": {},
   "source": [
    "Among N perons what is the prbality that least a person have a Leap Year Bithday"
   ]
  },
  {
   "cell_type": "code",
   "execution_count": null,
   "id": "ce0c241b",
   "metadata": {},
   "outputs": [
    {
     "data": {
      "text/html": [
       "<div>\n",
       "<style scoped>\n",
       "    .dataframe tbody tr th:only-of-type {\n",
       "        vertical-align: middle;\n",
       "    }\n",
       "\n",
       "    .dataframe tbody tr th {\n",
       "        vertical-align: top;\n",
       "    }\n",
       "\n",
       "    .dataframe thead th {\n",
       "        text-align: right;\n",
       "    }\n",
       "</style>\n",
       "<table border=\"1\" class=\"dataframe\">\n",
       "  <thead>\n",
       "    <tr style=\"text-align: right;\">\n",
       "      <th></th>\n",
       "      <th>People</th>\n",
       "      <th>Probability_Unique</th>\n",
       "      <th>Probability_Collision</th>\n",
       "    </tr>\n",
       "  </thead>\n",
       "  <tbody>\n",
       "    <tr>\n",
       "      <th>0</th>\n",
       "      <td>1</td>\n",
       "      <td>1.000000e+00</td>\n",
       "      <td>0.000000</td>\n",
       "    </tr>\n",
       "    <tr>\n",
       "      <th>1</th>\n",
       "      <td>2</td>\n",
       "      <td>9.972603e-01</td>\n",
       "      <td>0.002740</td>\n",
       "    </tr>\n",
       "    <tr>\n",
       "      <th>2</th>\n",
       "      <td>3</td>\n",
       "      <td>9.917958e-01</td>\n",
       "      <td>0.008204</td>\n",
       "    </tr>\n",
       "    <tr>\n",
       "      <th>3</th>\n",
       "      <td>4</td>\n",
       "      <td>9.836441e-01</td>\n",
       "      <td>0.016356</td>\n",
       "    </tr>\n",
       "    <tr>\n",
       "      <th>4</th>\n",
       "      <td>5</td>\n",
       "      <td>9.728644e-01</td>\n",
       "      <td>0.027136</td>\n",
       "    </tr>\n",
       "    <tr>\n",
       "      <th>...</th>\n",
       "      <td>...</td>\n",
       "      <td>...</td>\n",
       "      <td>...</td>\n",
       "    </tr>\n",
       "    <tr>\n",
       "      <th>148</th>\n",
       "      <td>149</td>\n",
       "      <td>4.142112e-16</td>\n",
       "      <td>1.000000</td>\n",
       "    </tr>\n",
       "    <tr>\n",
       "      <th>149</th>\n",
       "      <td>150</td>\n",
       "      <td>2.451222e-16</td>\n",
       "      <td>1.000000</td>\n",
       "    </tr>\n",
       "    <tr>\n",
       "      <th>150</th>\n",
       "      <td>151</td>\n",
       "      <td>1.443871e-16</td>\n",
       "      <td>1.000000</td>\n",
       "    </tr>\n",
       "    <tr>\n",
       "      <th>151</th>\n",
       "      <td>152</td>\n",
       "      <td>8.465434e-17</td>\n",
       "      <td>1.000000</td>\n",
       "    </tr>\n",
       "    <tr>\n",
       "      <th>152</th>\n",
       "      <td>153</td>\n",
       "      <td>4.940102e-17</td>\n",
       "      <td>1.000000</td>\n",
       "    </tr>\n",
       "  </tbody>\n",
       "</table>\n",
       "<p>153 rows × 3 columns</p>\n",
       "</div>"
      ],
      "text/plain": [
       "     People  Probability_Unique  Probability_Collision\n",
       "0         1        1.000000e+00               0.000000\n",
       "1         2        9.972603e-01               0.002740\n",
       "2         3        9.917958e-01               0.008204\n",
       "3         4        9.836441e-01               0.016356\n",
       "4         5        9.728644e-01               0.027136\n",
       "..      ...                 ...                    ...\n",
       "148     149        4.142112e-16               1.000000\n",
       "149     150        2.451222e-16               1.000000\n",
       "150     151        1.443871e-16               1.000000\n",
       "151     152        8.465434e-17               1.000000\n",
       "152     153        4.940102e-17               1.000000\n",
       "\n",
       "[153 rows x 3 columns]"
      ]
     },
     "execution_count": 37,
     "metadata": {},
     "output_type": "execute_result"
    }
   ],
   "source": []
  }
 ],
 "metadata": {
  "kernelspec": {
   "display_name": "pands",
   "language": "python",
   "name": "python3"
  },
  "language_info": {
   "codemirror_mode": {
    "name": "ipython",
    "version": 3
   },
   "file_extension": ".py",
   "mimetype": "text/x-python",
   "name": "python",
   "nbconvert_exporter": "python",
   "pygments_lexer": "ipython3",
   "version": "3.12.3"
  }
 },
 "nbformat": 4,
 "nbformat_minor": 5
}
