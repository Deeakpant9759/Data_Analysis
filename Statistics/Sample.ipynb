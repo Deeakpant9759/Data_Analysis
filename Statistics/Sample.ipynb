{
 "cells": [
  {
   "cell_type": "code",
   "execution_count": null,
   "id": "0f109ee0",
   "metadata": {},
   "outputs": [],
   "source": [
    "import numpy as np\n",
    "import matplotlib.pyplot as plt\n",
    "n = 200\n",
    "DataSample = np.random.choice(DataPolulation, size=n, replace=False)\n",
    "\n",
    "# Calculate stats\n",
    "mean_polulatiton = np.mean(DataPolulation)\n",
    "Std_polulation = np.std(DataPolulation)\n",
    "\n",
    "mean_sample = np.mean(DataSample)\n",
    "Std_sample = np.std(DataSample)\n",
    "\n",
    "print(\"Population Mean:\", mean_polulatiton)\n",
    "print(\"Sample Mean:\", mean_sample)\n",
    "print(\"Population Std:\", Std_polulation)\n",
    "print(\"Sample Std:\", Std_sample)\n"
   ]
  },
  {
   "cell_type": "code",
   "execution_count": null,
   "id": "ddafd8d7",
   "metadata": {},
   "outputs": [],
   "source": []
  },
  {
   "cell_type": "code",
   "execution_count": null,
   "id": "ba1b2b84",
   "metadata": {},
   "outputs": [],
   "source": []
  }
 ],
 "metadata": {
  "kernelspec": {
   "display_name": "pands",
   "language": "python",
   "name": "python3"
  },
  "language_info": {
   "codemirror_mode": {
    "name": "ipython",
    "version": 3
   },
   "file_extension": ".py",
   "mimetype": "text/x-python",
   "name": "python",
   "nbconvert_exporter": "python",
   "pygments_lexer": "ipython3",
   "version": "3.12.3"
  }
 },
 "nbformat": 4,
 "nbformat_minor": 5
}
