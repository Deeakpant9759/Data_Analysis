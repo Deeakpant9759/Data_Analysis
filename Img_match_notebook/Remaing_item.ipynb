{
 "cells": [
  {
   "cell_type": "code",
   "execution_count": 11,
   "id": "59f63209",
   "metadata": {},
   "outputs": [],
   "source": [
    "import pandas as pd\n",
    "df= pd.read_excel(\"c:\\\\Users\\\\MICILMEDS\\\\Documents\\\\Medi_final\\\\correct_data\\\\Category\\\\food bivrages\\\\food_bivrages_final.xlsx\")\n",
    "df_dwn = pd.read_excel(\"c:\\\\Users\\\\MICILMEDS\\\\Downloads\\\\20251001030001.xlsx\")\n",
    "df_anti = df[~df['Product Name'].isin(df_dwn['Product Name'])]"
   ]
  },
  {
   "cell_type": "code",
   "execution_count": 13,
   "id": "ffdf1c0f",
   "metadata": {},
   "outputs": [
    {
     "name": "stderr",
     "output_type": "stream",
     "text": [
      "C:\\Users\\MICILMEDS\\AppData\\Local\\Temp\\ipykernel_160704\\1690648721.py:1: SettingWithCopyWarning: \n",
      "A value is trying to be set on a copy of a slice from a DataFrame\n",
      "\n",
      "See the caveats in the documentation: https://pandas.pydata.org/pandas-docs/stable/user_guide/indexing.html#returning-a-view-versus-a-copy\n",
      "  df_anti.drop_duplicates(inplace=True)\n"
     ]
    },
    {
     "data": {
      "text/plain": [
       "(627, 18)"
      ]
     },
     "execution_count": 13,
     "metadata": {},
     "output_type": "execute_result"
    }
   ],
   "source": [
    "\n",
    "df_anti.drop_duplicates(inplace=True)\n",
    "df_anti.shape"
   ]
  },
  {
   "cell_type": "code",
   "execution_count": 14,
   "id": "8196ce65",
   "metadata": {},
   "outputs": [],
   "source": [
    "df_anti.to_excel(\"c:\\\\Users\\\\MICILMEDS\\\\Documents\\\\Medi_final\\\\correct_data\\\\Category\\\\Remaining data\\\\health_nutriation\\\\remainging_food_beavrages.xlsx\",index=False)"
   ]
  }
 ],
 "metadata": {
  "kernelspec": {
   "display_name": "pands",
   "language": "python",
   "name": "python3"
  },
  "language_info": {
   "codemirror_mode": {
    "name": "ipython",
    "version": 3
   },
   "file_extension": ".py",
   "mimetype": "text/x-python",
   "name": "python",
   "nbconvert_exporter": "python",
   "pygments_lexer": "ipython3",
   "version": "3.12.3"
  }
 },
 "nbformat": 4,
 "nbformat_minor": 5
}
