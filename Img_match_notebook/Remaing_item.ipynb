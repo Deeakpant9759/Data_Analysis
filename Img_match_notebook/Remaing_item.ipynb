{
 "cells": [
  {
   "cell_type": "code",
   "execution_count": null,
   "id": "59f63209",
   "metadata": {},
   "outputs": [],
   "source": [
    "import pandas as pd\n",
    "df= pd.read_excel(\"c:\\\\Users\\\\MICILMEDS\\\\Documents\\\\Medi_final\\\\correct_data\\\\Category\\\\food bivrages\\\\food_bivrages_final.xlsx\")\n",
    "df_dwn = pd.read_excel(\"c:\\\\Users\\\\MICILMEDS\\\\Downloads\\\\20251001030001.xlsx\")\n",
    "df_anti = df[~df['Product Name'].isin(df_dwn['Product Name'])]"
   ]
  },
  {
   "cell_type": "code",
   "execution_count": null,
   "id": "ffdf1c0f",
   "metadata": {},
   "outputs": [],
   "source": [
    "\n",
    "df_anti.drop_duplicates(inplace=True)\n",
    "df_anti.shape"
   ]
  },
  {
   "cell_type": "code",
   "execution_count": null,
   "id": "8196ce65",
   "metadata": {},
   "outputs": [],
   "source": [
    "df_anti.to_excel(\"c:\\\\Users\\\\MICILMEDS\\\\Documents\\\\Medi_final\\\\correct_data\\\\Category\\\\Remaining data\\\\health_nutriation\\\\remainging_food_beavrages.xlsx\",index=False)"
   ]
  },
  {
   "cell_type": "code",
   "execution_count": 9,
   "id": "b8d561b6",
   "metadata": {},
   "outputs": [
    {
     "name": "stdout",
     "output_type": "stream",
     "text": [
      "Main file loaded successfully\n",
      "Downloaded file loaded successfully\n",
      "Total items in main_file: (3742, 19)\n",
      "Total items in check file: (3045, 1)\n",
      "Total remaining items: (461, 19)\n"
     ]
    },
    {
     "name": "stderr",
     "output_type": "stream",
     "text": [
      "C:\\Users\\MICILMEDS\\AppData\\Local\\Temp\\ipykernel_241880\\4009602749.py:28: SettingWithCopyWarning: \n",
      "A value is trying to be set on a copy of a slice from a DataFrame\n",
      "\n",
      "See the caveats in the documentation: https://pandas.pydata.org/pandas-docs/stable/user_guide/indexing.html#returning-a-view-versus-a-copy\n",
      "  df_anti.drop_duplicates(inplace=True)\n"
     ]
    },
    {
     "name": "stdout",
     "output_type": "stream",
     "text": [
      "Remaining items saved to: C:\\Users\\MICILMEDS\\Documents\\Medi_final\\correct_data\\Category\\Remaining data\\final_data_xl.xlsx\n"
     ]
    }
   ],
   "source": [
    "import pandas as pd\n",
    "import os\n",
    "\n",
    "while True:\n",
    "    main_file = input(\"Enter the main file path: \").strip().replace('\"','')\n",
    "    check_file = input(\"Enter the file to check: \").strip().replace('\"','')\n",
    "    \n",
    "    # Extract file name for saving\n",
    "    File_name = os.path.basename(main_file)\n",
    "    \n",
    "    # Load Excel files\n",
    "    df = pd.read_excel(main_file)\n",
    "    print(\"Main file loaded successfully\")\n",
    "    df_check = pd.read_excel(check_file)\n",
    "    print(\"Downloaded file loaded successfully\")\n",
    "    \n",
    "    # Drop duplicates\n",
    "    df.drop_duplicates(inplace=True)\n",
    "    df_check.drop_duplicates(inplace=True)\n",
    "    df['Product Name'].str.strip().str.capitalize()\n",
    "    df_check['Product Name'].str.strip().str.capitalize()\n",
    "    \n",
    "    print(f\"Total items in main_file: {df.shape}\")\n",
    "    print(f\"Total items in check file: {df_check.shape}\")\n",
    "    \n",
    "    # Anti-join (items in df NOT in df_check)\n",
    "    df_anti = df[~df['Product Name'].isin(df_check['Product Name'])]\n",
    "    df_anti.drop_duplicates(inplace=True)\n",
    "    \n",
    "    print(f\"Total remaining items: {df_anti.shape}\")\n",
    "    \n",
    "    # Ensure save folder exists\n",
    "    save_folder = r\"C:\\Users\\MICILMEDS\\Documents\\Medi_final\\correct_data\\Category\\Remaining data\"\n",
    "    os.makedirs(save_folder, exist_ok=True)\n",
    "    \n",
    "    save_path = os.path.join(save_folder, f\"{File_name}\")\n",
    "    df_anti.to_excel(save_path, index=False)\n",
    "    \n",
    "    print(f\"Remaining items saved to: {save_path}\")\n",
    "    \n",
    "    x = input(\"Enter 'exit' to quit or any key to continue: \").strip().lower()\n",
    "    if x == \"exit\":\n",
    "        break\n"
   ]
  }
 ],
 "metadata": {
  "kernelspec": {
   "display_name": "pands",
   "language": "python",
   "name": "python3"
  },
  "language_info": {
   "codemirror_mode": {
    "name": "ipython",
    "version": 3
   },
   "file_extension": ".py",
   "mimetype": "text/x-python",
   "name": "python",
   "nbconvert_exporter": "python",
   "pygments_lexer": "ipython3",
   "version": "3.12.3"
  }
 },
 "nbformat": 4,
 "nbformat_minor": 5
}
