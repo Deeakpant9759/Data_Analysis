{
 "cells": [
  {
   "cell_type": "code",
   "execution_count": 1,
   "id": "7184c193",
   "metadata": {},
   "outputs": [],
   "source": [
    "import pandas as pd"
   ]
  },
  {
   "cell_type": "code",
   "execution_count": 8,
   "id": "15b0f666",
   "metadata": {},
   "outputs": [],
   "source": [
    "EMD = pd.read_csv(\"c:\\\\Users\\\\MICILMEDS\\\\Documents\\\\Medi_final\\\\correct_data\\\\Category\\\\Img_data_emds.csv\")\n",
    "df_m = pd.read_excel(\"c:\\\\Users\\\\MICILMEDS\\\\Downloads\\\\20250924115002.xlsx\")\n",
    "df_m['Product Name'] = df_m['Product Name'].str.replace(r'[^A-Za-z0-9 ]', '', regex=True)\n",
    "EMD['product_name'] = EMD['product_name'].str.replace(r'[^A-Za-z0-9 ]', '', regex=True)"
   ]
  },
  {
   "cell_type": "code",
   "execution_count": 26,
   "id": "5e5437cc",
   "metadata": {},
   "outputs": [],
   "source": [
    "EMD['Product test'] = EMD['product_name'].str.lower().str.split(' ').str[0:2].str.join(' ')\n",
    "df_m['Product test'] = df_m['Product Name'].str.lower().str.split(' ').str[0:2].str.join(' ')"
   ]
  },
  {
   "cell_type": "code",
   "execution_count": 27,
   "id": "e72b2f41",
   "metadata": {},
   "outputs": [
    {
     "data": {
      "text/plain": [
       "array(['1 tree', '13860 coloplast', '16 again', ..., 'zyvec 10',\n",
       "       'zyven od', 'zyvidol tablet'], shape=(53071,), dtype=object)"
      ]
     },
     "execution_count": 27,
     "metadata": {},
     "output_type": "execute_result"
    }
   ],
   "source": [
    "EMD['Product test'].sort_values().unique()"
   ]
  },
  {
   "cell_type": "code",
   "execution_count": 28,
   "id": "ffcee357",
   "metadata": {},
   "outputs": [
    {
     "data": {
      "text/plain": [
       "array(['1 tree', '10 niacinamide', '16 again', ..., 'zyzolide 600mg',\n",
       "       'zyzu mr', 'zzowin nutra'], shape=(157534,), dtype=object)"
      ]
     },
     "execution_count": 28,
     "metadata": {},
     "output_type": "execute_result"
    }
   ],
   "source": [
    "df_m['Product test'].sort_values().unique()"
   ]
  },
  {
   "cell_type": "code",
   "execution_count": null,
   "id": "9fabbdc2",
   "metadata": {},
   "outputs": [
    {
     "data": {
      "text/plain": [
       "(24146,)"
      ]
     },
     "execution_count": 29,
     "metadata": {},
     "output_type": "execute_result"
    }
   ],
   "source": [
    "test2 = pd.merge(EMD, df_m, left_on='Product Name', right_on='p', how='inner')\n",
    "test2['Product test'].unique().shape"
   ]
  }
 ],
 "metadata": {
  "kernelspec": {
   "display_name": "pands",
   "language": "python",
   "name": "python3"
  },
  "language_info": {
   "codemirror_mode": {
    "name": "ipython",
    "version": 3
   },
   "file_extension": ".py",
   "mimetype": "text/x-python",
   "name": "python",
   "nbconvert_exporter": "python",
   "pygments_lexer": "ipython3",
   "version": "3.12.3"
  }
 },
 "nbformat": 4,
 "nbformat_minor": 5
}
