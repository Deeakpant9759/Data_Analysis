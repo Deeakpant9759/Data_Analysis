{
 "cells": [
  {
   "cell_type": "code",
   "execution_count": 79,
   "id": "6e4299da",
   "metadata": {},
   "outputs": [],
   "source": [
    "import pandas as pd"
   ]
  },
  {
   "cell_type": "code",
   "execution_count": 80,
   "id": "439ed23a",
   "metadata": {},
   "outputs": [],
   "source": [
    "EMD = pd.read_csv(\"c:\\\\Users\\\\MICILMEDS\\\\Documents\\\\Medi_final\\\\correct_data\\\\Category\\\\Img_data_emds.csv\")"
   ]
  },
  {
   "cell_type": "code",
   "execution_count": 81,
   "id": "56c4a535",
   "metadata": {},
   "outputs": [],
   "source": [
    "EMD.drop_duplicates(inplace=True)"
   ]
  },
  {
   "cell_type": "code",
   "execution_count": 82,
   "id": "28ad1251",
   "metadata": {},
   "outputs": [],
   "source": [
    "df_m = pd.read_excel(\"c:\\\\Users\\\\MICILMEDS\\\\Downloads\\\\20250924115002.xlsx\")"
   ]
  },
  {
   "cell_type": "code",
   "execution_count": 83,
   "id": "72c54b03",
   "metadata": {},
   "outputs": [],
   "source": [
    "EMD.sort_values(by=['product_name'], inplace=True)"
   ]
  },
  {
   "cell_type": "code",
   "execution_count": 84,
   "id": "0a3f2072",
   "metadata": {},
   "outputs": [],
   "source": [
    "df_m.sort_values(by=['Product Name'], inplace=True)"
   ]
  },
  {
   "cell_type": "code",
   "execution_count": 85,
   "id": "af3a62b0",
   "metadata": {},
   "outputs": [],
   "source": [
    "df_m['Product Name'] = df_m['Product Name'].str.lower().str.strip()\n",
    "EMD['product_name'] = EMD['product_name'].str.lower().str.strip()"
   ]
  },
  {
   "cell_type": "code",
   "execution_count": 86,
   "id": "62f6c6e7",
   "metadata": {},
   "outputs": [],
   "source": [
    "df_m['Product Name'] = df_m['Product Name'].str.replace(r'[^A-Za-z0-9 ]', '', regex=True)\n",
    "EMD['product_name'] = EMD['product_name'].str.replace(r'[^A-Za-z0-9 ]', '', regex=True)"
   ]
  },
  {
   "cell_type": "code",
   "execution_count": 87,
   "id": "474801ac",
   "metadata": {},
   "outputs": [],
   "source": [
    "test1 = pd.merge(EMD, df_m, left_on='product_name', right_on='Product Name', how='inner')"
   ]
  },
  {
   "cell_type": "code",
   "execution_count": 88,
   "id": "621d39ed",
   "metadata": {},
   "outputs": [
    {
     "data": {
      "text/plain": [
       "(33156,)"
      ]
     },
     "execution_count": 88,
     "metadata": {},
     "output_type": "execute_result"
    }
   ],
   "source": [
    "test1['product_name'].unique().shape   "
   ]
  },
  {
   "cell_type": "code",
   "execution_count": 114,
   "id": "9d26a045",
   "metadata": {},
   "outputs": [],
   "source": [
    "test1.to_excel(\"c:\\\\Users\\\\MICILMEDS\\\\Documents\\\\Medi_final\\\\correct_data\\\\Category\\\\Img_match_data_test1.xlsx\", index=False)\n"
   ]
  },
  {
   "cell_type": "code",
   "execution_count": 90,
   "id": "dff9cd87",
   "metadata": {},
   "outputs": [],
   "source": [
    "df_test = test1[['product_name', 'Product Code']]"
   ]
  },
  {
   "cell_type": "code",
   "execution_count": 91,
   "id": "fcc34dc7",
   "metadata": {},
   "outputs": [
    {
     "data": {
      "text/html": [
       "<div>\n",
       "<style scoped>\n",
       "    .dataframe tbody tr th:only-of-type {\n",
       "        vertical-align: middle;\n",
       "    }\n",
       "\n",
       "    .dataframe tbody tr th {\n",
       "        vertical-align: top;\n",
       "    }\n",
       "\n",
       "    .dataframe thead th {\n",
       "        text-align: right;\n",
       "    }\n",
       "</style>\n",
       "<table border=\"1\" class=\"dataframe\">\n",
       "  <thead>\n",
       "    <tr style=\"text-align: right;\">\n",
       "      <th></th>\n",
       "      <th>product_name</th>\n",
       "      <th>Product Code</th>\n",
       "    </tr>\n",
       "  </thead>\n",
       "  <tbody>\n",
       "    <tr>\n",
       "      <th>0</th>\n",
       "      <td>16 again horny goat weed 800mg capsule</td>\n",
       "      <td>MIC209150</td>\n",
       "    </tr>\n",
       "    <tr>\n",
       "      <th>1</th>\n",
       "      <td>16 again horny goat weed 800mg capsule</td>\n",
       "      <td>MIC209291</td>\n",
       "    </tr>\n",
       "    <tr>\n",
       "      <th>2</th>\n",
       "      <td>16 again horny goat weed 800mg capsule</td>\n",
       "      <td>MIC209150</td>\n",
       "    </tr>\n",
       "    <tr>\n",
       "      <th>3</th>\n",
       "      <td>16 again horny goat weed 800mg capsule</td>\n",
       "      <td>MIC209291</td>\n",
       "    </tr>\n",
       "    <tr>\n",
       "      <th>4</th>\n",
       "      <td>16 again horny goat weed 800mg capsule</td>\n",
       "      <td>MIC209150</td>\n",
       "    </tr>\n",
       "    <tr>\n",
       "      <th>...</th>\n",
       "      <td>...</td>\n",
       "      <td>...</td>\n",
       "    </tr>\n",
       "    <tr>\n",
       "      <th>158360</th>\n",
       "      <td>onedrful life green coffee coffee</td>\n",
       "      <td>MIC272701</td>\n",
       "    </tr>\n",
       "    <tr>\n",
       "      <th>158361</th>\n",
       "      <td>onedrful life green coffee coffee</td>\n",
       "      <td>MIC272701</td>\n",
       "    </tr>\n",
       "    <tr>\n",
       "      <th>158362</th>\n",
       "      <td>onedrful life green coffee coffee</td>\n",
       "      <td>MIC272701</td>\n",
       "    </tr>\n",
       "    <tr>\n",
       "      <th>158363</th>\n",
       "      <td>onedrful life melatonin for restful sleep mango</td>\n",
       "      <td>MIC116135</td>\n",
       "    </tr>\n",
       "    <tr>\n",
       "      <th>158364</th>\n",
       "      <td>onedrful life melatonin for restful sleep mango</td>\n",
       "      <td>MIC116135</td>\n",
       "    </tr>\n",
       "  </tbody>\n",
       "</table>\n",
       "<p>158365 rows × 2 columns</p>\n",
       "</div>"
      ],
      "text/plain": [
       "                                           product_name Product Code\n",
       "0                16 again horny goat weed 800mg capsule    MIC209150\n",
       "1                16 again horny goat weed 800mg capsule    MIC209291\n",
       "2                16 again horny goat weed 800mg capsule    MIC209150\n",
       "3                16 again horny goat weed 800mg capsule    MIC209291\n",
       "4                16 again horny goat weed 800mg capsule    MIC209150\n",
       "...                                                 ...          ...\n",
       "158360                onedrful life green coffee coffee    MIC272701\n",
       "158361                onedrful life green coffee coffee    MIC272701\n",
       "158362                onedrful life green coffee coffee    MIC272701\n",
       "158363  onedrful life melatonin for restful sleep mango    MIC116135\n",
       "158364  onedrful life melatonin for restful sleep mango    MIC116135\n",
       "\n",
       "[158365 rows x 2 columns]"
      ]
     },
     "execution_count": 91,
     "metadata": {},
     "output_type": "execute_result"
    }
   ],
   "source": [
    "df_test"
   ]
  },
  {
   "cell_type": "code",
   "execution_count": 95,
   "id": "db16c815",
   "metadata": {},
   "outputs": [],
   "source": [
    "df_remaining = pd.merge(df_m, df_test, left_on='Product Name', right_on='product_name', how='left', indicator=True).query('_merge == \"left_only\"')"
   ]
  },
  {
   "cell_type": "code",
   "execution_count": 98,
   "id": "85f73de3",
   "metadata": {},
   "outputs": [
    {
     "data": {
      "text/html": [
       "<div>\n",
       "<style scoped>\n",
       "    .dataframe tbody tr th:only-of-type {\n",
       "        vertical-align: middle;\n",
       "    }\n",
       "\n",
       "    .dataframe tbody tr th {\n",
       "        vertical-align: top;\n",
       "    }\n",
       "\n",
       "    .dataframe thead th {\n",
       "        text-align: right;\n",
       "    }\n",
       "</style>\n",
       "<table border=\"1\" class=\"dataframe\">\n",
       "  <thead>\n",
       "    <tr style=\"text-align: right;\">\n",
       "      <th></th>\n",
       "      <th>Product Code_x</th>\n",
       "      <th>Product Name</th>\n",
       "      <th>product_name</th>\n",
       "      <th>Product Code_y</th>\n",
       "      <th>_merge</th>\n",
       "    </tr>\n",
       "  </thead>\n",
       "  <tbody>\n",
       "    <tr>\n",
       "      <th>0</th>\n",
       "      <td>MIC184284</td>\n",
       "      <td>1 tree daddiction spray</td>\n",
       "      <td>NaN</td>\n",
       "      <td>NaN</td>\n",
       "      <td>left_only</td>\n",
       "    </tr>\n",
       "    <tr>\n",
       "      <th>1</th>\n",
       "      <td>MIC244644</td>\n",
       "      <td>10 niacinamide face serum 30ml each</td>\n",
       "      <td>NaN</td>\n",
       "      <td>NaN</td>\n",
       "      <td>left_only</td>\n",
       "    </tr>\n",
       "    <tr>\n",
       "      <th>2</th>\n",
       "      <td>MIC244732</td>\n",
       "      <td>10 niacinamide face serum 30ml each</td>\n",
       "      <td>NaN</td>\n",
       "      <td>NaN</td>\n",
       "      <td>left_only</td>\n",
       "    </tr>\n",
       "    <tr>\n",
       "      <th>47</th>\n",
       "      <td>MIC209259</td>\n",
       "      <td>16 again raw shilajit</td>\n",
       "      <td>NaN</td>\n",
       "      <td>NaN</td>\n",
       "      <td>left_only</td>\n",
       "    </tr>\n",
       "    <tr>\n",
       "      <th>48</th>\n",
       "      <td>MIC224786</td>\n",
       "      <td>18 herbs organics green tea bag 125gm each wit...</td>\n",
       "      <td>NaN</td>\n",
       "      <td>NaN</td>\n",
       "      <td>left_only</td>\n",
       "    </tr>\n",
       "    <tr>\n",
       "      <th>...</th>\n",
       "      <td>...</td>\n",
       "      <td>...</td>\n",
       "      <td>...</td>\n",
       "      <td>...</td>\n",
       "      <td>...</td>\n",
       "    </tr>\n",
       "    <tr>\n",
       "      <th>600640</th>\n",
       "      <td>MIC224115</td>\n",
       "      <td>nature vit soy milk powder 300gm each vanilla</td>\n",
       "      <td>NaN</td>\n",
       "      <td>NaN</td>\n",
       "      <td>left_only</td>\n",
       "    </tr>\n",
       "    <tr>\n",
       "      <th>600641</th>\n",
       "      <td>MIC224350</td>\n",
       "      <td>nature vit soy milk powder 300gm each vanilla</td>\n",
       "      <td>NaN</td>\n",
       "      <td>NaN</td>\n",
       "      <td>left_only</td>\n",
       "    </tr>\n",
       "    <tr>\n",
       "      <th>600642</th>\n",
       "      <td>MIC225234</td>\n",
       "      <td>nature vit soy milk powder chocolate</td>\n",
       "      <td>NaN</td>\n",
       "      <td>NaN</td>\n",
       "      <td>left_only</td>\n",
       "    </tr>\n",
       "    <tr>\n",
       "      <th>600643</th>\n",
       "      <td>MIC224793</td>\n",
       "      <td>nature vit soy milk powder chocolate</td>\n",
       "      <td>NaN</td>\n",
       "      <td>NaN</td>\n",
       "      <td>left_only</td>\n",
       "    </tr>\n",
       "    <tr>\n",
       "      <th>600644</th>\n",
       "      <td>MIC233711</td>\n",
       "      <td>nature vit soy milk powder chocolate</td>\n",
       "      <td>NaN</td>\n",
       "      <td>NaN</td>\n",
       "      <td>left_only</td>\n",
       "    </tr>\n",
       "  </tbody>\n",
       "</table>\n",
       "<p>234190 rows × 5 columns</p>\n",
       "</div>"
      ],
      "text/plain": [
       "       Product Code_x                                       Product Name  \\\n",
       "0           MIC184284                            1 tree daddiction spray   \n",
       "1           MIC244644                10 niacinamide face serum 30ml each   \n",
       "2           MIC244732                10 niacinamide face serum 30ml each   \n",
       "47          MIC209259                              16 again raw shilajit   \n",
       "48          MIC224786  18 herbs organics green tea bag 125gm each wit...   \n",
       "...               ...                                                ...   \n",
       "600640      MIC224115      nature vit soy milk powder 300gm each vanilla   \n",
       "600641      MIC224350      nature vit soy milk powder 300gm each vanilla   \n",
       "600642      MIC225234               nature vit soy milk powder chocolate   \n",
       "600643      MIC224793               nature vit soy milk powder chocolate   \n",
       "600644      MIC233711               nature vit soy milk powder chocolate   \n",
       "\n",
       "       product_name Product Code_y     _merge  \n",
       "0               NaN            NaN  left_only  \n",
       "1               NaN            NaN  left_only  \n",
       "2               NaN            NaN  left_only  \n",
       "47              NaN            NaN  left_only  \n",
       "48              NaN            NaN  left_only  \n",
       "...             ...            ...        ...  \n",
       "600640          NaN            NaN  left_only  \n",
       "600641          NaN            NaN  left_only  \n",
       "600642          NaN            NaN  left_only  \n",
       "600643          NaN            NaN  left_only  \n",
       "600644          NaN            NaN  left_only  \n",
       "\n",
       "[234190 rows x 5 columns]"
      ]
     },
     "execution_count": 98,
     "metadata": {},
     "output_type": "execute_result"
    }
   ],
   "source": [
    "df_remaining.drop_duplicates\n",
    "df_remaining"
   ]
  },
  {
   "cell_type": "code",
   "execution_count": 99,
   "id": "bbbafa1d",
   "metadata": {},
   "outputs": [],
   "source": [
    "EMD_remaining = pd.merge(EMD, df_test, left_on='product_name', right_on='product_name', how='left', indicator=True).query('_merge == \"left_only\"')"
   ]
  },
  {
   "cell_type": "code",
   "execution_count": 102,
   "id": "5c2853c0",
   "metadata": {},
   "outputs": [],
   "source": [
    "EMD_remaining.drop_duplicates(inplace=True)"
   ]
  },
  {
   "cell_type": "code",
   "execution_count": 107,
   "id": "2d6b1f6d",
   "metadata": {},
   "outputs": [],
   "source": [
    "EMD_remaining['Product_test'] = (EMD_remaining['product_name'].str.rsplit(' ',n=1).str[0])"
   ]
  },
  {
   "cell_type": "code",
   "execution_count": 109,
   "id": "51fc7594",
   "metadata": {},
   "outputs": [],
   "source": [
    "df_remaining['Product_test'] = (df_remaining['Product Name'].str.rsplit(' ',n=1).str[0])"
   ]
  },
  {
   "cell_type": "code",
   "execution_count": 110,
   "id": "bb5cab74",
   "metadata": {},
   "outputs": [
    {
     "data": {
      "text/html": [
       "<div>\n",
       "<style scoped>\n",
       "    .dataframe tbody tr th:only-of-type {\n",
       "        vertical-align: middle;\n",
       "    }\n",
       "\n",
       "    .dataframe tbody tr th {\n",
       "        vertical-align: top;\n",
       "    }\n",
       "\n",
       "    .dataframe thead th {\n",
       "        text-align: right;\n",
       "    }\n",
       "</style>\n",
       "<table border=\"1\" class=\"dataframe\">\n",
       "  <thead>\n",
       "    <tr style=\"text-align: right;\">\n",
       "      <th></th>\n",
       "      <th>Product Code_x</th>\n",
       "      <th>Product Name</th>\n",
       "      <th>product_name</th>\n",
       "      <th>Product Code_y</th>\n",
       "      <th>_merge</th>\n",
       "      <th>Product_test</th>\n",
       "    </tr>\n",
       "  </thead>\n",
       "  <tbody>\n",
       "    <tr>\n",
       "      <th>0</th>\n",
       "      <td>MIC184284</td>\n",
       "      <td>1 tree daddiction spray</td>\n",
       "      <td>NaN</td>\n",
       "      <td>NaN</td>\n",
       "      <td>left_only</td>\n",
       "      <td>1 tree daddiction</td>\n",
       "    </tr>\n",
       "    <tr>\n",
       "      <th>1</th>\n",
       "      <td>MIC244644</td>\n",
       "      <td>10 niacinamide face serum 30ml each</td>\n",
       "      <td>NaN</td>\n",
       "      <td>NaN</td>\n",
       "      <td>left_only</td>\n",
       "      <td>10 niacinamide face serum 30ml</td>\n",
       "    </tr>\n",
       "    <tr>\n",
       "      <th>2</th>\n",
       "      <td>MIC244732</td>\n",
       "      <td>10 niacinamide face serum 30ml each</td>\n",
       "      <td>NaN</td>\n",
       "      <td>NaN</td>\n",
       "      <td>left_only</td>\n",
       "      <td>10 niacinamide face serum 30ml</td>\n",
       "    </tr>\n",
       "    <tr>\n",
       "      <th>47</th>\n",
       "      <td>MIC209259</td>\n",
       "      <td>16 again raw shilajit</td>\n",
       "      <td>NaN</td>\n",
       "      <td>NaN</td>\n",
       "      <td>left_only</td>\n",
       "      <td>16 again raw</td>\n",
       "    </tr>\n",
       "    <tr>\n",
       "      <th>48</th>\n",
       "      <td>MIC224786</td>\n",
       "      <td>18 herbs organics green tea bag 125gm each wit...</td>\n",
       "      <td>NaN</td>\n",
       "      <td>NaN</td>\n",
       "      <td>left_only</td>\n",
       "      <td>18 herbs organics green tea bag 125gm each with</td>\n",
       "    </tr>\n",
       "    <tr>\n",
       "      <th>...</th>\n",
       "      <td>...</td>\n",
       "      <td>...</td>\n",
       "      <td>...</td>\n",
       "      <td>...</td>\n",
       "      <td>...</td>\n",
       "      <td>...</td>\n",
       "    </tr>\n",
       "    <tr>\n",
       "      <th>600640</th>\n",
       "      <td>MIC224115</td>\n",
       "      <td>nature vit soy milk powder 300gm each vanilla</td>\n",
       "      <td>NaN</td>\n",
       "      <td>NaN</td>\n",
       "      <td>left_only</td>\n",
       "      <td>nature vit soy milk powder 300gm each</td>\n",
       "    </tr>\n",
       "    <tr>\n",
       "      <th>600641</th>\n",
       "      <td>MIC224350</td>\n",
       "      <td>nature vit soy milk powder 300gm each vanilla</td>\n",
       "      <td>NaN</td>\n",
       "      <td>NaN</td>\n",
       "      <td>left_only</td>\n",
       "      <td>nature vit soy milk powder 300gm each</td>\n",
       "    </tr>\n",
       "    <tr>\n",
       "      <th>600642</th>\n",
       "      <td>MIC225234</td>\n",
       "      <td>nature vit soy milk powder chocolate</td>\n",
       "      <td>NaN</td>\n",
       "      <td>NaN</td>\n",
       "      <td>left_only</td>\n",
       "      <td>nature vit soy milk powder</td>\n",
       "    </tr>\n",
       "    <tr>\n",
       "      <th>600643</th>\n",
       "      <td>MIC224793</td>\n",
       "      <td>nature vit soy milk powder chocolate</td>\n",
       "      <td>NaN</td>\n",
       "      <td>NaN</td>\n",
       "      <td>left_only</td>\n",
       "      <td>nature vit soy milk powder</td>\n",
       "    </tr>\n",
       "    <tr>\n",
       "      <th>600644</th>\n",
       "      <td>MIC233711</td>\n",
       "      <td>nature vit soy milk powder chocolate</td>\n",
       "      <td>NaN</td>\n",
       "      <td>NaN</td>\n",
       "      <td>left_only</td>\n",
       "      <td>nature vit soy milk powder</td>\n",
       "    </tr>\n",
       "  </tbody>\n",
       "</table>\n",
       "<p>234190 rows × 6 columns</p>\n",
       "</div>"
      ],
      "text/plain": [
       "       Product Code_x                                       Product Name  \\\n",
       "0           MIC184284                            1 tree daddiction spray   \n",
       "1           MIC244644                10 niacinamide face serum 30ml each   \n",
       "2           MIC244732                10 niacinamide face serum 30ml each   \n",
       "47          MIC209259                              16 again raw shilajit   \n",
       "48          MIC224786  18 herbs organics green tea bag 125gm each wit...   \n",
       "...               ...                                                ...   \n",
       "600640      MIC224115      nature vit soy milk powder 300gm each vanilla   \n",
       "600641      MIC224350      nature vit soy milk powder 300gm each vanilla   \n",
       "600642      MIC225234               nature vit soy milk powder chocolate   \n",
       "600643      MIC224793               nature vit soy milk powder chocolate   \n",
       "600644      MIC233711               nature vit soy milk powder chocolate   \n",
       "\n",
       "       product_name Product Code_y     _merge  \\\n",
       "0               NaN            NaN  left_only   \n",
       "1               NaN            NaN  left_only   \n",
       "2               NaN            NaN  left_only   \n",
       "47              NaN            NaN  left_only   \n",
       "48              NaN            NaN  left_only   \n",
       "...             ...            ...        ...   \n",
       "600640          NaN            NaN  left_only   \n",
       "600641          NaN            NaN  left_only   \n",
       "600642          NaN            NaN  left_only   \n",
       "600643          NaN            NaN  left_only   \n",
       "600644          NaN            NaN  left_only   \n",
       "\n",
       "                                           Product_test  \n",
       "0                                     1 tree daddiction  \n",
       "1                        10 niacinamide face serum 30ml  \n",
       "2                        10 niacinamide face serum 30ml  \n",
       "47                                         16 again raw  \n",
       "48      18 herbs organics green tea bag 125gm each with  \n",
       "...                                                 ...  \n",
       "600640            nature vit soy milk powder 300gm each  \n",
       "600641            nature vit soy milk powder 300gm each  \n",
       "600642                       nature vit soy milk powder  \n",
       "600643                       nature vit soy milk powder  \n",
       "600644                       nature vit soy milk powder  \n",
       "\n",
       "[234190 rows x 6 columns]"
      ]
     },
     "execution_count": 110,
     "metadata": {},
     "output_type": "execute_result"
    }
   ],
   "source": [
    "df_remaining"
   ]
  },
  {
   "cell_type": "code",
   "execution_count": 111,
   "id": "65feec1d",
   "metadata": {},
   "outputs": [],
   "source": [
    "test2 = pd.merge(EMD_remaining, df_remaining, left_on='Product_test', right_on='Product_test', how='inner')"
   ]
  },
  {
   "cell_type": "code",
   "execution_count": 113,
   "id": "47519871",
   "metadata": {},
   "outputs": [
    {
     "data": {
      "text/plain": [
       "(716,)"
      ]
     },
     "execution_count": 113,
     "metadata": {},
     "output_type": "execute_result"
    }
   ],
   "source": [
    "test2['product_code'].unique().shape"
   ]
  }
 ],
 "metadata": {
  "kernelspec": {
   "display_name": "pands",
   "language": "python",
   "name": "python3"
  },
  "language_info": {
   "codemirror_mode": {
    "name": "ipython",
    "version": 3
   },
   "file_extension": ".py",
   "mimetype": "text/x-python",
   "name": "python",
   "nbconvert_exporter": "python",
   "pygments_lexer": "ipython3",
   "version": "3.12.3"
  }
 },
 "nbformat": 4,
 "nbformat_minor": 5
}
